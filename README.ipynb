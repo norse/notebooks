{
 "cells": [
  {
   "cell_type": "markdown",
   "id": "afa6d3cd",
   "metadata": {},
   "source": [
    "<p align=\"center\">\n",
    "<img src=\"https://raw.githubusercontent.com/norse/norse/master/logo.png\" alt=\"Norse logo\"/>\n",
    "</p>\n",
    "\n",
    "# Norse Notebook Tutorials\n",
    "\n",
    "These notebooks are designed to familiarize yourself with the [Spiking Neural Network simulator, Norse](https://norse.github.io/notebooks/README.html#)\n",
    "This material can be **run the notebooks directly in your browser**.\n",
    "However, please note that the online execution relies on CPU, which can cause performance problems for larger networks.\n",
    "If you desire hardware acceleration (like GPU or TPU) you can either clone this repository and experiment locally, or use Google Colab.\n",
    "\n",
    "If this is your first brush with computational neuroscience, we recommend [this excellent serious of tutorials by Neuromatch Academy](https://compneuro.neuromatch.io/tutorials/W0D1_PythonWorkshop1/student/W0D1_Tutorial1.html).\n",
    "They provide excellent interactive tutorials on neuron dynamics, linear algebra, calculus, statistics, and deep learning.\n",
    "\n",
    "## Introductory notebooks\n",
    "\n",
    "| Notebook | Topic |\n",
    "| ------------------ | --- |\n",
    "| [Introduction to PyTorch and spiking neurons](https://norse.github.io/notebooks/intro_spikes.html) | Introduces biological neurons and PyTorch |\n",
    "| [Introduction to Spiking Neural Networks in Norse](https://norse.github.io/notebooks/intro_norse.html) | Build and train spiking models in Norse |\n",
    "| [Simulating and plotting spiking data](https://norse.github.io/notebooks/intro_plotting.html) | Learn how to describe and visualise event data |\n",
    "| *Single Neuron Experiments* | Learn how single neurons behave |\n",
    "\n",
    "## Supervised Learning\n",
    "\n",
    "| Notebook | Topic |\n",
    "| ------------------ | --- |\n",
    "| [Training with MNIST](https://norse.github.io/notebooks/mnist_classifiers.html) | Learn how to solve MNIST with spikes\n",
    "| [Learning event-based DVS Poker](https://norse.github.io/notebooks/poker-dvs_classifier.html) | Learn how to work with event-based datasets by classifying a set of poker cards\n",
    "| *Optimization of neuron parameters* | Explore how automatic differentiation can be useful to optimize neurons\n",
    "\n",
    "## Neuroscience\n",
    "| Notebook | Topic |\n",
    "| ------------------ | --- |\n",
    "| [Optimizing neuron parameters](https://norse.github.io/notebooks/parameter-learning.html) | Learn how to solve MNIST with spikes\n",
    "| [Spike time dependent plasticity](https://norse.github.io/notebooks/stp_example.html) | Learn how to work with event-based datasets by classifying a set of poker cards"
   ]
  },
  {
   "cell_type": "markdown",
   "id": "1dc6e019",
   "metadata": {},
   "source": [
    "## Miscellaneous\n",
    "| Notebook | Topic |\n",
    "| ------------------ | --- |\n",
    "| [High Performance Computing with Norse](https://norse.github.io/notebooks/high-performance-computing.html)  | Scale Norse models to HPCs! |\n",
    "| [Stochastic Computing](https://norse.github.io/notebooks/stochastic-computing.html) | Explore stochastic computing with spiking neurons |\n",
    "\n",
    "For more information we refer to our [documentation](https://norse.ai/docs).\n",
    "\n",
    "We are also more than happy to accept contributions such as improving or adding notebooks, suggestions for improvements, issues for bugs, or donations to support our work. Thank you!\n"
   ]
  }
 ],
 "metadata": {
  "jupytext": {
   "cell_metadata_filter": "-all",
   "main_language": "python",
   "notebook_metadata_filter": "-all"
  }
 },
 "nbformat": 4,
 "nbformat_minor": 5
}
