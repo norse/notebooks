{
 "cells": [
  {
   "attachments": {},
   "cell_type": "markdown",
   "id": "d589fdaf",
   "metadata": {},
   "source": [
    "# Spiking neurons in PyTorch\n",
    "\n",
    "Norse is a library where you can *simulate* neural networks that are driven by atomic and sparse events **over time**, rather than large and dense tensors *without* time.\n",
    "\n",
    "This notebook shows you how to use and install PyTorch and Norse. We will skip most of the details, and *we will not cover training in neural networks*. Many more resources exist in our [notebook repository](https://github.com/norse/notebooks) if you're feeling adventurous. Also, our documentation tells you much more about what Norse is and why we built it at: https://norse.github.io/norse/\n",
    "\n",
    ":::{note}\n",
    "You can execute the notebooks on this website by hitting <i class=\"fas fa-rocket\"></i> above and pressing <i class=\"fas fa-play\"></i> Live Code.\n",
    ":::\n",
    "\n",
    "Outcomes: You will learn to interphase Norse and PyTorch and see how easy it is to plug and play with spiking neuron layers using Norse.\n",
    "\n",
    "**Before you continue** with this notebook, we strongly recommend you familiarize yourself with [PyTorch](https://pytorch.org) (at least superficially). One way to do that is to go to their [PyTorch Quickstart Tutorial](https://pytorch.org/tutorials/beginner/basics/quickstart_tutorial.html).\n",
    "\n",
    "## Table of contents\n",
    "\n",
    "1. [Installing Norse](#11-installation)\n",
    "2. [Using PyTorch](#1-using-pytorch)\n",
    "\n",
    "    2.1. [Creating data](#21-creating-data)\n",
    "\n",
    "    2.2. [Creating a network](#22-creating-a-network)\n",
    "\n",
    "    2.3. [Using the network](#23-using-the-network)\n",
    "\n",
    "3. [Using Norse](#2-using-norse)\n",
    "\n",
    "    3.1. [Describing time](#31-describing-time)\n",
    "\n",
    "    3.2. [Creating a spiking network](#32-creating-a-spiking-network)\n",
    "\n",
    "    3.3. [Applying data to the network](#33-applying-data-to-the-network)\n",
    "4. [Next steps](#3-next-steps)\n",
    "\n",
    "\n"
   ]
  },
  {
   "attachments": {},
   "cell_type": "markdown",
   "id": "712385cc",
   "metadata": {},
   "source": [
    "---\n",
    "\n",
    "# 1. Installation\n",
    "\n",
    "Before we can get started, we need to install the necessary software. But! That's simple. Just run the cell below."
   ]
  },
  {
   "cell_type": "code",
   "execution_count": 25,
   "id": "20e18d59",
   "metadata": {},
   "outputs": [],
   "source": [
    "!pip install --quiet norse"
   ]
  },
  {
   "cell_type": "markdown",
   "id": "52aa8b51",
   "metadata": {},
   "source": [
    "Now that it's installed, we can import PyTorch and Norse directly into Python.\n"
   ]
  },
  {
   "attachments": {},
   "cell_type": "markdown",
   "id": "56e429c9",
   "metadata": {},
   "source": [
    "---\n",
    "\n",
    "# 2. Using PyTorch"
   ]
  },
  {
   "cell_type": "code",
   "execution_count": 26,
   "id": "17b246a8",
   "metadata": {},
   "outputs": [],
   "source": [
    "import torch\n",
    "import norse.torch as norse\n",
    "\n",
    "# We set the random seed for reproducibility\n",
    "_ = torch.manual_seed(0)"
   ]
  },
  {
   "attachments": {},
   "cell_type": "markdown",
   "id": "fd5a6054",
   "metadata": {},
   "source": [
    "## 2.1 Creating data\n",
    "\n",
    "First, we need some **data**. Let's start by creating a vector of 5 random numbers, that can be visualized like this.\n",
    "\n",
    "![](images/vector.svg)"
   ]
  },
  {
   "cell_type": "code",
   "execution_count": 4,
   "id": "aba013fc",
   "metadata": {},
   "outputs": [
    {
     "data": {
      "text/plain": [
       "tensor([ 1.5410, -0.2934, -2.1788,  0.5684, -1.0845])"
      ]
     },
     "execution_count": 4,
     "metadata": {},
     "output_type": "execute_result"
    }
   ],
   "source": [
    "data = torch.randn(5)\n",
    "data"
   ]
  },
  {
   "attachments": {},
   "cell_type": "markdown",
   "id": "ab083dc2",
   "metadata": {},
   "source": [
    "## 2.2 Creating a network\n",
    "\n",
    "We will now create a simple neural **network** in PyTorch, consisting of a `Linear` layer and an *activation function*. The `Linear` layer combines the five inputs into a single output, like so:\n",
    "\n",
    "![](images/one_layer.svg)\n",
    "\n",
    "The activation *activation function* determines *how* the neurons react to the data. For now, we will just use a [simple rectified linear unit (ReLU)](https://pytorch.org/docs/stable/generated/torch.nn.ReLU.html), which clips data to the interval $[0, \\inf)$. If the data is below 0, the *activation function* returns 0. If the data is above zero, ReLU returns that same data without change (identity).\n",
    "\n",
    "![](images/relu.svg)\n",
    "\n",
    "Now that we installed the ReLU *activation function*, our network looks like this:\n",
    "\n",
    "![](images/two_layers.svg)\n",
    "\n",
    "Finally, we need to put the two *layers* together by wrapping them in a `torch.nn.Sequential` module."
   ]
  },
  {
   "cell_type": "code",
   "execution_count": 5,
   "id": "50829aab",
   "metadata": {},
   "outputs": [],
   "source": [
    "network = torch.nn.Sequential(torch.nn.Linear(5, 1), torch.nn.ReLU())"
   ]
  },
  {
   "cell_type": "markdown",
   "id": "2c54bc03",
   "metadata": {},
   "source": [
    "Together, our data and network now looks like this:\n",
    "\n",
    "![](images/network.svg)"
   ]
  },
  {
   "attachments": {},
   "cell_type": "markdown",
   "id": "37f3bee4",
   "metadata": {},
   "source": [
    "## 2.3 Using the network\n",
    "\n",
    "It's now straight forward to give the **network** our **data**. That will give us a single number as output, but with any negative numbers zero'ed out because the ReLU layer removes them."
   ]
  },
  {
   "cell_type": "code",
   "execution_count": 7,
   "id": "b6482318",
   "metadata": {},
   "outputs": [
    {
     "data": {
      "text/plain": [
       "tensor([0.], grad_fn=<ReluBackward0>)"
      ]
     },
     "execution_count": 7,
     "metadata": {},
     "output_type": "execute_result"
    }
   ],
   "source": [
    "network(data)"
   ]
  },
  {
   "cell_type": "markdown",
   "id": "60ce89f2",
   "metadata": {},
   "source": [
    "Try to run the cell multiple times - you should get the same result. Why? Because the input never changes. So, what happens if the input changes?\n",
    "\n",
    "Below, we'll use the **network** again, but with a different input vector. Try running it several times. Do you understand what is happening? Why is it sometimes zero?"
   ]
  },
  {
   "cell_type": "code",
   "execution_count": 11,
   "id": "d54a29ce",
   "metadata": {},
   "outputs": [
    {
     "data": {
      "text/plain": [
       "tensor([0.2704], grad_fn=<ReluBackward0>)"
      ]
     },
     "execution_count": 11,
     "metadata": {},
     "output_type": "execute_result"
    }
   ],
   "source": [
    "data = torch.rand(5)\n",
    "network(data)"
   ]
  },
  {
   "attachments": {},
   "cell_type": "markdown",
   "id": "8dae2ad6",
   "metadata": {},
   "source": [
    "---\n",
    "\n",
    "# 3. Using Norse\n",
    "\n",
    "Now that we've seen a brief recap on how to use networks and data in PyTorch, we can extend the same principle to Norse. But before we do that, we need to discuss how \"time\" is relevant in this context.\n",
    "\n",
    "Neurons in biology receive data more than that single vector we used above. They exist in time and have intricate dynamics. What you see below is a small animation of a **constant** input that produces different outputs **over time**.\n",
    "\n",
    "![](https://ncskth.github.io/norse-rl/_images/spikes.gif)\n",
    "\n",
    "## 3.1 Describing \"time\"\n",
    "\n",
    "In order to *simulate* our neuron over time we need be able to express \"time\".\n",
    "There are [many ways to approach this](https://en.wikipedia.org/wiki/Dynamical_system) and in Norse, this is approached by discretizing time into small bins.\n",
    "That is, \"time\" in Norse is not continuous.\n",
    "It consists of small \"steps\" that are very very small (1ms by default).\n",
    "\n",
    "Practically speaking, we can approach this by creating multiple versions of our **data** vector. Each \"version\" would then represent one timestep, like in the above simulation.\n",
    "\n",
    "![](images/time_vector.svg)\n",
    "\n",
    "One way to represent that would be to create a **single matrix**, where each \"slice\" represents a timestep.\n",
    "\n",
    "![](images/time_matrix.svg)\n",
    "\n",
    "In PyTorch, we can create such a matrix by adding four timesteps as the outer dimension."
   ]
  },
  {
   "cell_type": "code",
   "execution_count": 27,
   "id": "a29a104e",
   "metadata": {},
   "outputs": [
    {
     "data": {
      "text/plain": [
       "tensor([[-1.1258, -1.1524, -0.2506, -0.4339,  0.5988],\n",
       "        [-1.5551, -0.3414,  1.8530,  0.4681, -0.1577],\n",
       "        [ 1.4437,  0.2660,  1.3894,  1.5863,  0.9463],\n",
       "        [-0.8437,  0.9318,  1.2590,  2.0050,  0.0537]])"
      ]
     },
     "execution_count": 27,
     "metadata": {},
     "output_type": "execute_result"
    }
   ],
   "source": [
    "data = torch.randn(4, 5)\n",
    "data"
   ]
  },
  {
   "attachments": {},
   "cell_type": "markdown",
   "id": "361dd227",
   "metadata": {},
   "source": [
    "## 3.2 Creating a spiking network\n",
    "\n",
    "As you remember, the ReLU function isn't spiking or even biological. That's where Norse comes in. Norse includes spiking neuron models that we can add directly into the previous network description. In this case, we'll use a leaky integrate-and-fire (LIF) model."
   ]
  },
  {
   "cell_type": "code",
   "execution_count": 32,
   "id": "3f542e4e",
   "metadata": {},
   "outputs": [],
   "source": [
    "network = norse.SequentialState(torch.nn.Linear(5, 1), norse.LIF())"
   ]
  },
  {
   "cell_type": "markdown",
   "id": "7840f77a",
   "metadata": {},
   "source": [
    "You probably noticed that we are no longer using the `torch.nn.Sequential` but `norse.SequentialState`. The reason is that every time we feed in one timestep, we also need to *remember* how \"excited\" the neuron is. This is also known as the *state* of the neuron. `torch.nn.Sequential` doesn't know anything about states, so we need to patch it. We will ignore this for now, but you are welcome to [read more about state handling in our documentation](https://norse.github.io/norse/pages/working.html).\n",
    "\n",
    "With time, our network can be visualized like this:\n",
    "\n",
    "![](images/network_time.svg)"
   ]
  },
  {
   "cell_type": "markdown",
   "id": "b37cea13",
   "metadata": {},
   "source": [
    "Note the two changes: the are using *several* input data vectors and the ReLU *activation function* is replaced with a LIF *activation function*."
   ]
  },
  {
   "attachments": {},
   "cell_type": "markdown",
   "id": "ecf3171e",
   "metadata": {},
   "source": [
    "## 3.3 Applying data to the network\n",
    "\n",
    "Applying the data is as simple as we did above. We would now expect that for each timestep, we would get a single output in return (just as before). Because we have four timesteps, we would expect 4 numbers:"
   ]
  },
  {
   "cell_type": "code",
   "execution_count": 33,
   "id": "14acdaae",
   "metadata": {},
   "outputs": [
    {
     "data": {
      "text/plain": [
       "tensor([[0.],\n",
       "        [0.],\n",
       "        [0.],\n",
       "        [0.]], grad_fn=<StackBackward0>)"
      ]
     },
     "execution_count": 33,
     "metadata": {},
     "output_type": "execute_result"
    }
   ],
   "source": [
    "output, _ = network(data)  # We ignore the state for now, see above\n",
    "output"
   ]
  },
  {
   "cell_type": "markdown",
   "id": "ec84a551",
   "metadata": {},
   "source": [
    "As promised, here are exactly the four values we would expect.\n",
    "\n",
    "Before we conclude, we encourage you to play around with the data above. Here are some leading questions\n",
    "\n",
    "* How do you simulate the network for 10 timesteps?\n",
    "* How do you increase the number of neurons from 1 to 2?\n",
    "* What happens if you add a linear layer in the end that goes from 1 to 3 neurons?\n"
   ]
  },
  {
   "attachments": {},
   "cell_type": "markdown",
   "id": "e4546df2",
   "metadata": {},
   "source": [
    "---\n",
    "\n",
    "# 4. Next steps\n",
    "\n",
    "You may wonder why the data above are all zeros. Take a look at this animation.\n",
    "\n",
    "![](https://ncskth.github.io/norse-rl/_images/spikes.gif)\n",
    "\n",
    "\n",
    "If the input is too low (like in the left panel), nothing will happen: the neuron stays silent. If we want the network to provide a certain output *we need to train it*. That is the topic for future notebooks and documentation. Specifically, we would recommend going through all the notebooks under the Introduction section."
   ]
  },
  {
   "attachments": {},
   "cell_type": "markdown",
   "id": "e647fed2",
   "metadata": {},
   "source": [
    "---\n",
    "\n",
    "We have plenty more resources in our [notebook repository](https://github.com/norse/notebooks) if you're feeling adventurous. Also, our documentation tells you much more about what Norse is and why we built it at: https://norse.github.io/norse/\n",
    "\n",
    "Don't forget to [join our Discord server](https://discord.gg/7fGN359) and to support us by either donating or contributing your work upstream. Norse is open-source and built with love for the community. We couldn't do it without your help!"
   ]
  }
 ],
 "metadata": {
  "kernelspec": {
   "display_name": "norse_env",
   "language": "python",
   "name": "python3"
  },
  "language_info": {
   "codemirror_mode": {
    "name": "ipython",
    "version": 3
   },
   "file_extension": ".py",
   "mimetype": "text/x-python",
   "name": "python",
   "nbconvert_exporter": "python",
   "pygments_lexer": "ipython3",
   "version": "3.8.10"
  },
  "vscode": {
   "interpreter": {
    "hash": "81144b68214537f7f52869dc1afba9cd50737754d3f4edd2ce313513cc4120f7"
   }
  }
 },
 "nbformat": 4,
 "nbformat_minor": 5
}
