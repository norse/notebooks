{
 "cells": [
  {
   "cell_type": "markdown",
   "id": "2b2913f4",
   "metadata": {},
   "source": [
    "# Detecting edges from event data with Norse\n",
    "\n",
    "![](https://github.com/norse/aestream/raw/main/example/usb_edgedetection.gif)\n",
    "\n",
    "In this tutorial you will learn to\n",
    "\n",
    "1. Read event-based files with [AEStream](https://github.com/norse/aestream)\n",
    "2. Visualize them in Python\n",
    "3. Use [Norse](https://github.com/norse/norse) to process the events\n",
    "\n",
    "Event-based vision is an impressive technology that is unfortunately still a diamond in the rough.\n",
    "Working with it works well in theory, but only recently have tools and libraries made it somewhat practical to work with.\n",
    "AEStream simplifies the **reading, writing, and streaming** of event-based data and is one such tool: without it, it would take prohibitively long to work with event-based data representations.\n",
    "\n",
    "One enticing application is spiking neural networks. This is where Norse comes in and in this tutorial you will learn to combine them both: read events from event-based binary files into a spiking neural network that does meaningful processing on the incoming events.\n",
    "\n",
    "The complete code of the tutorial is available [at the AEStream repository](https://github.com/norse/aestream/blob/main/example/usb_edgedetection.py)."
   ]
  },
  {
   "cell_type": "markdown",
   "id": "6d2e4fbe",
   "metadata": {},
   "source": [
    "## 1. Reading event-based files with AEStream\n",
    "\n",
    "![](https://camo.githubusercontent.com/311f3c90a229449ff8a1c1ca1040e7f3cd026c3a3f4e3317970f2c39fc10117f/68747470733a2f2f6a6567702e6769746875622e696f2f616573747265616d2d70617065722f323231325f616573747265616d2e737667)\n",
    "\n",
    "AEStream is a tool that reads address-event (AE) representations and *streams* them to an output. While AEStream supports many inputs/outputs, we will focus on **reading a file and processing it with Norse**.\n",
    "But note that AEStream has been used to stream events to neuromorphic hardware.\n",
    "The only difference is a few lines of code.\n",
    "\n",
    "Back to the problem at hand: let us first install and import AEStream.\n",
    "\n",
    "**IF YOU ARE NOT ON GOOGLE COLAB, SKIP THIS CELL**"
   ]
  },
  {
   "cell_type": "code",
   "execution_count": null,
   "id": "063ad64f",
   "metadata": {},
   "outputs": [],
   "source": [
    "!apt install g++-10 liblz4-dev && export CXX=g++-10"
   ]
  },
  {
   "cell_type": "markdown",
   "id": "d3c9aa0b",
   "metadata": {},
   "source": [
    "The above cell was solely for Google Colab. The below line installs aestream"
   ]
  },
  {
   "cell_type": "code",
   "execution_count": null,
   "id": "b5e8ab87",
   "metadata": {},
   "outputs": [],
   "source": [
    "!pip install aestream"
   ]
  },
  {
   "cell_type": "markdown",
   "id": "ebc86dcc",
   "metadata": {},
   "source": [
    "... So we now can import it into Python:"
   ]
  },
  {
   "cell_type": "code",
   "execution_count": null,
   "id": "2b5ab944",
   "metadata": {},
   "outputs": [],
   "source": [
    "import aestream"
   ]
  },
  {
   "cell_type": "markdown",
   "id": "1f00620a",
   "metadata": {},
   "source": [
    "During this tutorial, we will process a sample of ~600MB, which is downloaded below:"
   ]
  },
  {
   "cell_type": "code",
   "execution_count": null,
   "id": "4dc15575",
   "metadata": {},
   "outputs": [],
   "source": [
    "!wget -O sample.aedat4 https://cloud.jepedersen.dk/s/ze5Xjxe8wCHwkxD"
   ]
  },
  {
   "cell_type": "markdown",
   "id": "805693ab",
   "metadata": {},
   "source": [
    "With AEStream, we can now *open* the file:"
   ]
  },
  {
   "cell_type": "code",
   "execution_count": null,
   "id": "2834430e",
   "metadata": {},
   "outputs": [],
   "source": [
    "f = aestream.FileInput(\"sample.aedat4\", (346, 280))"
   ]
  },
  {
   "cell_type": "markdown",
   "id": "f34c6baf",
   "metadata": {},
   "source": [
    "## 1.1 Operating onevents\n",
    "\n",
    "We can split up the files in smaller bits of, say, 4 events and print them out, just like we would loop over them in Python:"
   ]
  },
  {
   "cell_type": "code",
   "execution_count": null,
   "id": "86ab0af4",
   "metadata": {},
   "outputs": [],
   "source": [
    "for e in f.parts(4):\n",
    "    print(e)\n",
    "    break"
   ]
  },
  {
   "cell_type": "markdown",
   "id": "478d8b1c",
   "metadata": {},
   "source": [
    "What you see here is a representation showing (`timestamp`, `x`, `y`, `polarity`) information.\n",
    "This data format isn't terribly interesting to us.\n",
    "In this notebook, we will be working with images and images consist of many events!\n",
    "\n",
    "Let's arrange the events into a 2-d grid with `n` number of events, where `n = 1000`:"
   ]
  },
  {
   "cell_type": "code",
   "execution_count": null,
   "id": "224d64b1",
   "metadata": {},
   "outputs": [],
   "source": [
    "frames = f.frames(1000)"
   ]
  },
  {
   "cell_type": "markdown",
   "id": "d36394f3",
   "metadata": {},
   "source": [
    "Now we can ask, what is then the next frame?"
   ]
  },
  {
   "cell_type": "code",
   "execution_count": null,
   "id": "e8a4d7d1",
   "metadata": {},
   "outputs": [],
   "source": [
    "frame = next(frames)"
   ]
  },
  {
   "cell_type": "markdown",
   "id": "28444361",
   "metadata": {},
   "source": [
    "# 2. Visualize events in Python\n",
    "\n",
    "Once we have our frames, they are simple to visualize.\n",
    "You might have noticed that the data representation is simple: `1`-values when there are events. `0`-values when not.\n",
    "This can immediately be visualized in [matplotlib](https://matplotlib.org/).\n",
    "\n",
    "If you are not familiar with matplotlib, try to read the code out loud: we are using matplotlib (`plt`) to show an image, pretending we can use our previous 2-d event frame as an image"
   ]
  },
  {
   "cell_type": "code",
   "execution_count": null,
   "id": "e96aa552",
   "metadata": {},
   "outputs": [],
   "source": [
    "import matplotlib.pyplot as plt\n",
    "\n",
    "plt.imshow(frame)"
   ]
  },
  {
   "cell_type": "markdown",
   "id": "8d7e8dd8",
   "metadata": {},
   "source": [
    "PS: If you are annoyed that the frame is in portrait-format rather than landscape, try transposing it by writing `frame.T`."
   ]
  },
  {
   "cell_type": "markdown",
   "id": "7b03722d",
   "metadata": {},
   "source": [
    "Well. That frame is a little sparse. What happens if we increase the number of events to, say, 10000?"
   ]
  },
  {
   "cell_type": "code",
   "execution_count": null,
   "id": "da43c138",
   "metadata": {},
   "outputs": [],
   "source": [
    "frames = f.frames(10000)\n",
    "frame = next(frames)\n",
    "plt.imshow(frame.T)"
   ]
  },
  {
   "cell_type": "markdown",
   "id": "193fb644",
   "metadata": {},
   "source": [
    "It looks the same!\n",
    "That is strange! We **should** be seeing something moving, since increasing the number of events effectively means using more input. Why do you think this is the case? Can you explore the data to figure out what's the matter?"
   ]
  },
  {
   "cell_type": "markdown",
   "id": "fe221407",
   "metadata": {},
   "source": [
    "---"
   ]
  },
  {
   "cell_type": "markdown",
   "id": "ad95032e",
   "metadata": {},
   "source": [
    "What you see here is an annoying property of the event cameras. They are noisy and sometimes have faulty pixels, like this camera.\n",
    "Check out the minimum and maximum values of the frame:"
   ]
  },
  {
   "cell_type": "code",
   "execution_count": null,
   "id": "1c74dcfa",
   "metadata": {},
   "outputs": [],
   "source": [
    "frame.min(), frame.max()"
   ]
  },
  {
   "cell_type": "markdown",
   "id": "077402b5",
   "metadata": {},
   "source": [
    "We can fix this by clipping the values from 0 to 1:"
   ]
  },
  {
   "cell_type": "code",
   "execution_count": null,
   "id": "386c55c3",
   "metadata": {},
   "outputs": [],
   "source": [
    "plt.imshow(frame.clip(0, 1).T)"
   ]
  },
  {
   "cell_type": "markdown",
   "id": "c361be59",
   "metadata": {},
   "source": [
    "Now this is starting to look like something! Let's draw the next frame."
   ]
  },
  {
   "cell_type": "code",
   "execution_count": null,
   "id": "7774c228",
   "metadata": {},
   "outputs": [],
   "source": [
    "plt.imshow(next(frames).clip(0, 1).T)"
   ]
  },
  {
   "cell_type": "markdown",
   "id": "b0f17220",
   "metadata": {},
   "source": [
    "# 3. Use Norse to process the events\n",
    "\n",
    "In this part of the tutorial, we will create a small network in Norse that extracts horizontal and vertical edges from our event frames.\n",
    "\n",
    "Our network consists of two layers:\n",
    "1. A **refractory leaky integrate-and-fire layer** that filters out noisy pixels\n",
    "2. A **2-d convolution** that applies a horizontal and vertical kernel to the incoming signal\n",
    "\n",
    "We can write that up in Norse like so:"
   ]
  },
  {
   "cell_type": "code",
   "execution_count": null,
   "id": "e5948135",
   "metadata": {},
   "outputs": [],
   "source": [
    "# Import Norse and Torch\n",
    "import norse, torch\n",
    "\n",
    "# A refractory cell to inhibit pixels\n",
    "refrac = norse.torch.LIFRefracCell()\n",
    "\n",
    "# A convolutional edge-detection layer with kernel size 9 and two output channels\n",
    "convolution = torch.nn.Conv2d(1, 2, 9, padding=12, bias=False, dilation=3)\n",
    "\n",
    "# Put it all together\n",
    "net = norse.torch.SequentialState(refrac, convolution)"
   ]
  },
  {
   "attachments": {
    "image.png": {
     "image/png": "[encoded data removed]"
    }
   },
   "cell_type": "markdown",
   "id": "8e424d23",
   "metadata": {},
   "source": [
    "Our kernels select for horizontal and vertical edges.\n",
    "They will **excite** the stimulus along horizontal *or* vertical directions, suppressing everything else.\n",
    "That is visually simple to represent:\n",
    "\n",
    "![image.png](attachment:image.png)\n",
    "\n",
    "In code, this can be achieved by a number of ways.\n",
    "Below, we are differentiating a sigmoid and \"stretching\" that into 2d.\n",
    "\n",
    "If the code seem weird to you, try to unpack it and visualize the intermediate steps!"
   ]
  },
  {
   "cell_type": "code",
   "execution_count": null,
   "id": "db4caede",
   "metadata": {},
   "outputs": [],
   "source": [
    "# Create horizontal and vertical edge detectors\n",
    "kernel_size = 9\n",
    "gaussian = torch.sigmoid(torch.linspace(-10, 10, kernel_size + 1))\n",
    "kernel = (gaussian.diff() - 0.14).repeat(kernel_size, 1)\n",
    "kernels = torch.stack((kernel, kernel.T))\n",
    "convolution = torch.nn.Conv2d(1, 2, kernel_size, padding=12, bias=False, dilation=3)\n",
    "convolution.weight = torch.nn.Parameter(kernels.unsqueeze(1))"
   ]
  },
  {
   "cell_type": "markdown",
   "id": "1694bfee",
   "metadata": {},
   "source": [
    "Finally, we can apply it to our data!\n",
    "Recall that Norse requires state to keep track of the neuron dynamics.\n",
    "Therefore, we initialize that to empty (None)."
   ]
  },
  {
   "cell_type": "code",
   "execution_count": null,
   "id": "ad32281b",
   "metadata": {},
   "outputs": [],
   "source": [
    "state = None  # Start with empty state"
   ]
  },
  {
   "cell_type": "markdown",
   "id": "1f5414b5",
   "metadata": {},
   "source": [
    "Next, we can simply iterate over all the frames and apply our network.\n",
    "Note that we are resizing the frame a bit to fit the format of PyTorch `(batch, channel, x, y)`"
   ]
  },
  {
   "cell_type": "code",
   "execution_count": null,
   "id": "555f0193",
   "metadata": {},
   "outputs": [],
   "source": [
    "processed = []\n",
    "frame_input = aestream.FileInput(\"sample.aedat4\", (346, 280)).frames(10000)\n",
    "for frame in frame_input:\n",
    "    resize = torch.tensor(frame.reshape(1, 1, 346, 280))\n",
    "    with torch.no_grad():  # Exclude gradients\n",
    "        out, state = net(resize, state)\n",
    "        processed.append(out)\n",
    "\n",
    "    # Only process 10 frames for now\n",
    "    if len(processed) > 9:\n",
    "        break\n",
    "\n",
    "processed = torch.stack(processed)"
   ]
  },
  {
   "cell_type": "code",
   "execution_count": null,
   "id": "c776c518",
   "metadata": {},
   "outputs": [],
   "source": [
    "processed.shape"
   ]
  },
  {
   "cell_type": "markdown",
   "id": "e05632d8",
   "metadata": {},
   "source": [
    "We now have a tensor of 10 timesteps, 1 batch, 2 output channels, and 346x280 pixels.\n",
    "Let's visualize them!"
   ]
  },
  {
   "cell_type": "code",
   "execution_count": null,
   "id": "a92d2ee2",
   "metadata": {},
   "outputs": [],
   "source": [
    "axes[1][1]"
   ]
  },
  {
   "cell_type": "code",
   "execution_count": null,
   "id": "920e8dd3",
   "metadata": {},
   "outputs": [],
   "source": [
    "f, axes = plt.subplots(2, 2)\n",
    "axes[0, 0].imshow(processed[0, 0, 0].T)\n",
    "axes[1, 0].imshow(processed[0, 0, 1].T)\n",
    "\n",
    "axes[0, 1].imshow(processed[1, 0, 0].T)\n",
    "axes[1, 1].imshow(processed[1, 0, 1].T)"
   ]
  },
  {
   "cell_type": "markdown",
   "id": "fb5261ba",
   "metadata": {},
   "source": [
    "What you see here is the very first step of a purely neural edge detector!\n",
    "Try to put the image in series or [animate them using Matplotlib](https://matplotlib.org/stable/gallery/animation/dynamic_image.html)."
   ]
  },
  {
   "cell_type": "markdown",
   "id": "80661e58",
   "metadata": {},
   "source": [
    "# Conclusion\n",
    "\n",
    "We worked with the event-based processing library AEStream, read event tensors out of the file, and processed them with a rudimentary Norse model.\n",
    "\n",
    "AEStream is one part of a larger SNN toolbox ecosystem.\n",
    "We used it in a step-wise frame-based manner, which is *actually not what it was desinged for*.\n",
    "Rather, AEStream and Norse are toolsets for **streaming** sparse events.\n",
    "\n",
    "If that interest you, check out [the website of AEStream](https://github.com/norse/norse), and the work we have done on [sending events over UDP](https://github.com/norse/aestream/blob/main/example/udp_client.py) to, for instance, neuromorphic hardware platforms [like SpiNNaker](http://apt.cs.manchester.ac.uk/projects/SpiNNaker/).\n",
    "\n",
    "More notebooks are available at https://github.com/norse/notebooks."
   ]
  }
 ],
 "metadata": {
  "kernelspec": {
   "display_name": "Python 3 (ipykernel)",
   "language": "python",
   "name": "python3"
  },
  "language_info": {
   "codemirror_mode": {
    "name": "ipython",
    "version": 3
   },
   "file_extension": ".py",
   "mimetype": "text/x-python",
   "name": "python",
   "nbconvert_exporter": "python",
   "pygments_lexer": "ipython3",
   "version": "3.10.6"
  }
 },
 "nbformat": 4,
 "nbformat_minor": 5
}
