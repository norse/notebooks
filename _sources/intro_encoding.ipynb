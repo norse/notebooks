{
 "cells": [
  {
   "cell_type": "markdown",
   "metadata": {},
   "source": [
    "## Encoding data to Spikes\n",
    "\n",
    "Spikes are binary (0 or 1). Most data, like images, videos, and audio isn't. Therefore, we would like a way to *represent* data by \"coding\" them to spikes -- a proccess known as **spike encoding**.\n",
    "\n",
    "In this notebook we will \n",
    "1. present different encoding methods\n",
    "2. show how the encoding methods are used in Norse\n",
    "3. demonstrate how to encode images for use in training\n",
    "4. discuss project ideas related to encoding \n",
    "\n",
    "Please note that **SNNs can work perfectly well *without* spike encoding** (if you remember to normalize).\n",
    "However, this tutorial discusses spike encoding because it fits with the idea of spikes as the atomic unit of operation in SNNs.\n",
    "Please also note that the tutorial here only provides a *superficial* treatment of spike encoding.\n",
    "For further reference see [Wikipedia](https://en.wikipedia.org/wiki/Neural_coding) and [literature on the topic](https://mitpress.mit.edu/books/spikes).\n",
    "\n",
    ":::{note}\n",
    "You can execute the notebooks on this website by hitting <i class=\"fas fa-rocket\"></i> above and pressing <i class=\"fas fa-play\"></i> Live Code.\n",
    ":::\n"
   ]
  },
  {
   "cell_type": "markdown",
   "metadata": {},
   "source": [
    "## Step 0: Installation\n",
    "\n",
    "First of all, we will need to install Norse. Please run the cell below. Read on while it's running."
   ]
  },
  {
   "cell_type": "code",
   "execution_count": null,
   "metadata": {},
   "outputs": [],
   "source": [
    "!pip install --quiet norse matplotlib"
   ]
  },
  {
   "cell_type": "markdown",
   "metadata": {},
   "source": [
    "## 1. Types of encoding\n",
    "\n",
    "In this tutorial we will discuss three methods for encoding: poisson encoding, spike latency encoding, and population encoding.\n",
    "Before getting to that, let's understand the dilemma.\n",
    "\n",
    "```{figure} images/kitten.png\n",
    "---\n",
    "height: 200px\n",
    "name: kitten\n",
    "---\n",
    "An image of a kitten consists of a number or pixels containing Red/Green/Blue (RGB) values.\n",
    "[CC BY-SA 2.0](https://commons.wikimedia.org/w/index.php?curid=41009866)\n",
    "```\n",
    "\n",
    "Normal pictures, like this cute kitten consists of a matrix of pixels.\n",
    "This *could* be used to directly drive a neuron, just like we would for a normal activation function (like ReLU).\n",
    "However, it is incompatible with a binary spike pattern (spike / no-spike).\n",
    "We can define a spike as:\n",
    "\n",
    "$$\n",
    "\\text{spike} = \\text{time}\\; \\times \\;\\text{neuron}\n",
    "$$\n",
    "\n",
    "Our job, therefore, becomes **finding a mapping from the numerical domain to the spiking domain**.\n",
    "Therefore, we need to figure our 1) *how many neurons* to we map to and 2) *when* do the neurons fire."
   ]
  },
  {
   "cell_type": "markdown",
   "metadata": {},
   "source": [
    "## 1.1 Rate coding\n",
    "\n",
    "A naïve approach would be to interpret the numbers in the image as *numbers of spikes*.\n",
    "That could look like this:\n",
    "\n",
    "```{figure} images/spike_coding.svg\n",
    "---\n",
    "height: 150px\n",
    "name: spike-coding\n",
    "---\n",
    "A naïve but effective spike encoding that maps pixel numbers into *numbers of spikes*.\n",
    "```\n",
    "\n",
    "A popular variant of this rate coding is the [Poisson encoding](https://en.wikipedia.org/wiki/Poisson_distribution) which takes a probabilistic approach: instead of coding a *fixed* number of spikes, the spikes are drawn from a probability distribution that produces *roughly* that amount of spikes. \n",
    "The benefit here is that the noise can actually increase robustness."
   ]
  },
  {
   "cell_type": "markdown",
   "metadata": {},
   "source": [
    "## 1.2 Spike latency coding\n",
    "\n",
    "Another approach would be to interpret the numbers as *how fast* a neuron would spike.\n",
    "The higher the value, the faster the neuron would spike.\n",
    "Note, that this is a much sparser encoding since each neuron would only spike once -- as opposed to rate coding which produces many more spikes.\n",
    "\n",
    "\n",
    "```{figure} images/latency_coding.svg\n",
    "---\n",
    "height: 150px\n",
    "name: latency-coding\n",
    "---\n",
    "Latency coding interprets numbers as \"speed\" with which the neurons will spike.\n",
    "Large numbers = immediate spikes.\n",
    "```"
   ]
  },
  {
   "cell_type": "markdown",
   "metadata": {},
   "source": [
    "## 1.3 Population coding\n",
    "\n",
    "Both the above codings mapped pixels to neurons 1:1.\n",
    "Population coding builds on the idea of a *[receptive field](https://en.wikipedia.org/wiki/Receptive_field)* where neurons are sensitive to certain ranges of stimulus - or numbers.\n",
    "Imagine having a continuum between 0 - 100. \n",
    "A neuron with a receptive field around 10, would react strongly (emitting *lots* of spikes) to the number 10. \n",
    "Less so to the number 20, and maybe not at all to the number 30. \n",
    "So, population coding maps a single pixel to many neurons.\n",
    "\n",
    "Receptive fields are typically drawn as gaussians (normal distributions).\n",
    "\n",
    "```{figure} images/population_coding.svg\n",
    "---\n",
    "height: 150px\n",
    "name: latency-coding\n",
    "---\n",
    "Population coding maps a single number to many neurons, each with a different receptive field that determines how much the neuron spikes.\n",
    "```"
   ]
  },
  {
   "cell_type": "markdown",
   "metadata": {},
   "source": [
    "# 2. Using encodings in Norse\n",
    "\n",
    "The encodings in norse are fairly straight-forward in that they take an input tensor (numbers) and produces an output tensor of spikes -- with an extra dimension for time.\n",
    "\n",
    "All the encoding modules can be found in [`norse.torch.module.encode`](https://norse.github.io/norse/norse.torch.html#encoding), and accessed directly from `norse.torch`."
   ]
  },
  {
   "cell_type": "markdown",
   "metadata": {},
   "source": [
    "## 2.1 Rate encoding using LIF\n",
    "\n",
    "To convert numerical values into rates, we are typically using some form of dynamical equation.\n",
    "In this case a LIF neuron, where the inputs are interpreted as constant input currents."
   ]
  },
  {
   "cell_type": "code",
   "execution_count": 2,
   "metadata": {},
   "outputs": [
    {
     "data": {
      "text/plain": [
       "<AxesSubplot:>"
      ]
     },
     "execution_count": 2,
     "metadata": {},
     "output_type": "execute_result"
    },
    {
     "data": {
      "image/png": "[encoded data removed]",
      "text/plain": [
       "<Figure size 432x288 with 1 Axes>"
      ]
     },
     "metadata": {
      "needs_background": "light"
     },
     "output_type": "display_data"
    }
   ],
   "source": [
    "import torch\n",
    "import norse.torch as snn\n",
    "\n",
    "data = torch.tensor([2, 4, 8, 16])\n",
    "\n",
    "encoder = snn.ConstantCurrentLIFEncoder(seq_length = 100) # Encode for 100 timesteps\n",
    "\n",
    "snn.utils.plot_spikes_2d(encoder(data))"
   ]
  },
  {
   "cell_type": "markdown",
   "metadata": {},
   "source": [
    "As expected, four input values gets mapped to four neurons (y-axis).\n",
    "Neuron 0 receives a small input (2) and spikes a few times. Neuron 3 reveives the largest input (16) and seems to spike constantly!"
   ]
  },
  {
   "cell_type": "markdown",
   "metadata": {},
   "source": [
    "## 2.2 Rate encoding using poisson codes\n",
    "\n",
    "The idea is similar to the LIF encoder, but now with a stochastic element.\n",
    "The code is almost the same:"
   ]
  },
  {
   "cell_type": "code",
   "execution_count": 3,
   "metadata": {},
   "outputs": [
    {
     "data": {
      "text/plain": [
       "<AxesSubplot:>"
      ]
     },
     "execution_count": 3,
     "metadata": {},
     "output_type": "execute_result"
    },
    {
     "data": {
      "image/png": "[encoded data removed]",
      "text/plain": [
       "<Figure size 432x288 with 1 Axes>"
      ]
     },
     "metadata": {
      "needs_background": "light"
     },
     "output_type": "display_data"
    }
   ],
   "source": [
    "data = torch.tensor([0, 0.3, 0.6, 1.0])\n",
    "\n",
    "encoder = snn.PoissonEncoder(seq_length = 100) # Encode for 100 timesteps\n",
    "\n",
    "snn.utils.plot_spikes_2d(encoder(data))"
   ]
  },
  {
   "cell_type": "markdown",
   "metadata": {},
   "source": [
    "Try to run the cell above: the stochastic nature of the poisson encoder makes the spike output quite unpredictable!"
   ]
  },
  {
   "cell_type": "markdown",
   "metadata": {},
   "source": [
    "## 2.3 Spike latency encoding\n",
    "\n",
    "We will yet again use the LIF equation to determine when the first spike will arrive.\n",
    "Notice how, for each neuron, there are no subsequent spikes because the entire idea of the encoding mechanism is to rely on the timing of the *first* spike"
   ]
  },
  {
   "cell_type": "code",
   "execution_count": 4,
   "metadata": {},
   "outputs": [
    {
     "data": {
      "text/plain": [
       "<AxesSubplot:>"
      ]
     },
     "execution_count": 4,
     "metadata": {},
     "output_type": "execute_result"
    },
    {
     "data": {
      "image/png": "[encoded data removed]",
      "text/plain": [
       "<Figure size 432x288 with 1 Axes>"
      ]
     },
     "metadata": {
      "needs_background": "light"
     },
     "output_type": "display_data"
    }
   ],
   "source": [
    "data = torch.tensor([1, 2, 4, 8])\n",
    "\n",
    "encoder = snn.SpikeLatencyLIFEncoder(seq_length = 10) # Encode for 10 timesteps\n",
    "\n",
    "snn.utils.plot_spikes_2d(encoder(data))"
   ]
  },
  {
   "cell_type": "markdown",
   "metadata": {},
   "source": [
    "Notice also how the first neuron never spikes! That's because the neuron does not provide sufficient input to elicit a spike in the LIF equation."
   ]
  },
  {
   "cell_type": "markdown",
   "metadata": {},
   "source": [
    "## 2.4 Population encoding\n",
    "\n",
    "Population encoding will automatically create $n$ neurons for every input number.\n",
    "Each $n$ neuron will then be given a number, based on how *close* the neuron is to the receptive field."
   ]
  },
  {
   "cell_type": "code",
   "execution_count": 5,
   "metadata": {},
   "outputs": [
    {
     "data": {
      "text/plain": [
       "<AxesSubplot:>"
      ]
     },
     "execution_count": 5,
     "metadata": {},
     "output_type": "execute_result"
    },
    {
     "data": {
      "image/png": "[encoded data removed]",
      "text/plain": [
       "<Figure size 432x288 with 2 Axes>"
      ]
     },
     "metadata": {
      "needs_background": "light"
     },
     "output_type": "display_data"
    }
   ],
   "source": [
    "data = torch.tensor([2, 4, 8])\n",
    "\n",
    "encoder = snn.PopulationEncoder(out_features = 5) # Use 5 neurons to encode for each input\n",
    "\n",
    "snn.utils.plot_spikes_2d(encoder(data), show_colorbar=True)"
   ]
  },
  {
   "cell_type": "markdown",
   "metadata": {},
   "source": [
    "Unfortunately, this still does not directly provide spikes.\n",
    "Therefore, we need to still use some form of spike encoding to go to the spiking domain."
   ]
  },
  {
   "cell_type": "code",
   "execution_count": 6,
   "metadata": {},
   "outputs": [
    {
     "data": {
      "text/plain": [
       "<AxesSubplot:>"
      ]
     },
     "execution_count": 6,
     "metadata": {},
     "output_type": "execute_result"
    },
    {
     "data": {
      "image/png": "[encoded data removed]",
      "text/plain": [
       "<Figure size 432x288 with 1 Axes>"
      ]
     },
     "metadata": {
      "needs_background": "light"
     },
     "output_type": "display_data"
    }
   ],
   "source": [
    "data = torch.tensor([1, 2, 4, 8])\n",
    "\n",
    "encoder = torch.nn.Sequential(\n",
    "    snn.PopulationEncoder(out_features = 5), # Use 5 neurons to encode for each input\n",
    "    snn.PoissonEncoder(seq_length=20)         # Encode for 20 timesteps\n",
    ")\n",
    "snn.utils.plot_spikes_2d(encoder(data).view(20, -1))"
   ]
  },
  {
   "cell_type": "markdown",
   "metadata": {},
   "source": [
    "# 3. Encoding MNIST data\n",
    "\n",
    "We can test out these encoders on \"real\" data such as the beloved MNIST dataset."
   ]
  },
  {
   "cell_type": "code",
   "execution_count": 7,
   "metadata": {},
   "outputs": [],
   "source": [
    "import torchvision\n",
    "\n",
    "dataset = torchvision.datasets.MNIST(\n",
    "    root=\".\",\n",
    "    train=False,\n",
    "    download=True,\n",
    "    transform=torchvision.transforms.ToTensor()\n",
    ")\n",
    "\n",
    "example, label = dataset[7]"
   ]
  },
  {
   "cell_type": "markdown",
   "metadata": {},
   "source": [
    "## 3.1 Visualizing MNIST\n",
    "\n",
    "MNIST consists of black-and-white pictures of 28x28 pictures that looks like so:"
   ]
  },
  {
   "cell_type": "code",
   "execution_count": 8,
   "metadata": {},
   "outputs": [
    {
     "data": {
      "text/plain": [
       "<AxesSubplot:>"
      ]
     },
     "execution_count": 8,
     "metadata": {},
     "output_type": "execute_result"
    },
    {
     "data": {
      "image/png": "[encoded data removed]",
      "text/plain": [
       "<Figure size 432x288 with 2 Axes>"
      ]
     },
     "metadata": {
      "needs_background": "light"
     },
     "output_type": "display_data"
    }
   ],
   "source": [
    "snn.utils.plot_heatmap_2d(example, show_colorbar=True)"
   ]
  },
  {
   "cell_type": "markdown",
   "metadata": {},
   "source": [
    "## 3.2 Encoding MNIST digits\n",
    "\n",
    "As we can see, the values are somewhere between 0 and 1.\n",
    "We can take that directly and encode this with a `PoissonEncoder`, just like we saw above!"
   ]
  },
  {
   "cell_type": "code",
   "execution_count": 9,
   "metadata": {},
   "outputs": [
    {
     "data": {
      "text/plain": [
       "<AxesSubplot:>"
      ]
     },
     "execution_count": 9,
     "metadata": {},
     "output_type": "execute_result"
    },
    {
     "data": {
      "image/png": "[encoded data removed]",
      "text/plain": [
       "<Figure size 432x288 with 1 Axes>"
      ]
     },
     "metadata": {
      "needs_background": "light"
     },
     "output_type": "display_data"
    }
   ],
   "source": [
    "encoder = snn.PoissonEncoder(seq_length = 100)\n",
    "snn.utils.plot_spikes_2d(encoder(example). view(100, -1))"
   ]
  },
  {
   "cell_type": "markdown",
   "metadata": {},
   "source": [
    "This may look weird, but this shows how 28x28=784 neurons are encoded to produce spikes over 100 timesteps.\n",
    "This is obviously quite wasteful, but as a sidenode the spike encoding is actually not that inefficient, considering that the spikes are binary and quite sparse."
   ]
  },
  {
   "cell_type": "markdown",
   "metadata": {},
   "source": [
    "```{note}\n",
    "Try encoding different datasets than MNIST! There are many freely available datasets [on the PyTorch website](https://pytorch.org/docs/stable/torchvision/datasets.html).\n",
    "```"
   ]
  },
  {
   "cell_type": "markdown",
   "metadata": {},
   "source": [
    "## 4. Project Ideas\n",
    "\n",
    "To summarize, we briefly glossed over different encoding types and demonstrated how you can apply encoding to MNIST digits. \n",
    "The same principle can apply to audio, video, text, etc.\n",
    "\n",
    "Here are some project ideas:\n",
    "\n",
    "- Design a task which uses a biologically plausible Audio to Spike conversion like\n",
    "  [lauscher](https://github.com/electronicvisions/lauscher).\n",
    "- What other data could be used as input to a Spiking Neural Network and how?\n",
    "- [Event based cameras](https://en.wikipedia.org/wiki/Event_camera) produce sparse data, much like the spikes we have seen above. Tonic, a dataloader for neuromorphic datasets, has a lot of [event-based datasets to play with](https://tonic.readthedocs.io/en/latest/reference/datasets.html)"
   ]
  }
 ],
 "metadata": {
  "kernelspec": {
   "display_name": "Python 3 (ipykernel)",
   "language": "python",
   "name": "python3"
  },
  "language_info": {
   "codemirror_mode": {
    "name": "ipython",
    "version": 3
   },
   "file_extension": ".py",
   "mimetype": "text/x-python",
   "name": "python",
   "nbconvert_exporter": "python",
   "pygments_lexer": "ipython3",
   "version": "3.9.7"
  }
 },
 "nbformat": 4,
 "nbformat_minor": 2
}
