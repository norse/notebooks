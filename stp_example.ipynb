{
 "cells": [
  {
   "cell_type": "markdown",
   "metadata": {},
   "source": [
    "# Spike Time Dependent Plasticity\n",
    "\n",
    "In this tutorial we will take a look at a simple example of plasticity first\n",
    "experimentally described in a seminal paper by Tsodyks and Makram, which has\n",
    "been implemented in Norse as an example of a biologically plausible form of\n",
    "synaptic plasticity."
   ]
  },
  {
   "cell_type": "code",
   "execution_count": null,
   "metadata": {},
   "outputs": [],
   "source": [
    "!pip install norse --quiet\n",
    "!pip install ipympl --quiet"
   ]
  },
  {
   "cell_type": "code",
   "execution_count": null,
   "metadata": {},
   "outputs": [],
   "source": [
    "# Install widgets in Google Colab\n",
    "try:\n",
    "    from google.colab import output\n",
    "    output.enable_custom_widget_manager()\n",
    "except:\n",
    "    pass"
   ]
  },
  {
   "cell_type": "code",
   "execution_count": null,
   "metadata": {},
   "outputs": [],
   "source": [
    "import torch\n",
    "from norse.torch.functional.tsodyks_makram import stp_step, TsodyksMakramState, TsodyksMakramParameters"
   ]
  },
  {
   "cell_type": "markdown",
   "metadata": {},
   "source": [
    "As a first example consder the case that a single synapse is stimulated by a\n",
    "periodically firing neuron with a constant frequency of 10 Hertz. "
   ]
  },
  {
   "cell_type": "code",
   "execution_count": null,
   "metadata": {},
   "outputs": [],
   "source": [
    "def example(p):\n",
    "    dt = 0.001\n",
    "    z = torch.zeros(1000)\n",
    "    z[::100] = 1.0\n",
    "    z[0:10] = 0.0\n",
    " \n",
    "    s = TsodyksMakramState(x=1.0, u=0.0)\n",
    "    i = 0.0\n",
    "    xs = []\n",
    "    us = []\n",
    "    current = []\n",
    "\n",
    "    for ts in range(1000):\n",
    "        x, s = stp_step(z[ts], s, p)\n",
    "\n",
    "        # integrate the synapse dynamics\n",
    "        di = -p.tau_s_inv * i\n",
    "        i  = i + dt * di + x\n",
    "        xs += [s.x]\n",
    "        us += [s.u]\n",
    "        current += [i]\n",
    "\n",
    "    xs = torch.stack(xs)\n",
    "    us = torch.stack(us)\n",
    "    current = torch.stack(current)\n",
    "    \n",
    "    return xs, us, current\n",
    "\n",
    "\n"
   ]
  },
  {
   "cell_type": "code",
   "execution_count": null,
   "metadata": {},
   "outputs": [],
   "source": [
    "%matplotlib widget\n",
    "import matplotlib.pyplot as plt\n",
    "import numpy as np\n",
    "from ipywidgets import interact\n",
    "\n",
    "ts0_fascilitating = TsodyksMakramParameters(\n",
    "    tau_f_inv = 1 / (750.0e-3),\n",
    "    tau_s_inv = 1 / (20.0e-3),\n",
    "    tau_d_inv = 1 / (50.0e-3),\n",
    "    U = 0.15\n",
    ")\n",
    "\n",
    "ts0_depressing = TsodyksMakramParameters(\n",
    "    tau_f_inv = 1 / (50.0e-3),\n",
    "    tau_s_inv = 1 / (20.0e-3),\n",
    "    tau_d_inv = 1 / (750.0e-3),\n",
    "    U = 0.45\n",
    ")\n",
    "\n",
    "xs, us, current = example(TsodyksMakramParameters())\n",
    "ts = np.arange(0,1.0,0.001)\n",
    "fig = plt.figure()\n",
    "ax = fig.add_subplot(1,1,1)\n",
    "ax.set_xlabel('time [s]')\n",
    "current_plot, = ax.plot(ts, current, label='current')\n",
    "x_plot, = ax.plot(ts, xs, label='x')\n",
    "u_plot, = ax.plot(ts, us, label='u')\n",
    "ax.legend()\n",
    "\n",
    "@interact(tau_f_inv=(0.0,100.0,0.5), tau_s_inv=(0,100,0.5), tau_d_inv=(0,100,0.5), U=(0,1,0.1))\n",
    "def update(\n",
    "    tau_f_inv = 1 / (50.0e-3),\n",
    "    tau_s_inv = 1 / (20.0e-3),\n",
    "    tau_d_inv = 1 / (750.0e-3),\n",
    "    U = 0.45\n",
    "):\n",
    "    xs, us, current = example(TsodyksMakramParameters(\n",
    "        tau_f_inv,\n",
    "        tau_s_inv,\n",
    "        tau_d_inv,\n",
    "        U\n",
    "    ))\n",
    "    current_plot.set_ydata(current)\n",
    "    x_plot.set_ydata(xs)\n",
    "    u_plot.set_ydata(us)\n",
    "    fig.canvas.draw()"
   ]
  },
  {
   "cell_type": "code",
   "execution_count": null,
   "metadata": {},
   "outputs": [],
   "source": []
  }
 ],
 "metadata": {
  "interpreter": {
   "hash": "779f80cd85b1aee67ffae18ca1ca95d16893d957b4912de248ce321081606f8a"
  },
  "kernelspec": {
   "display_name": "Python 3 (ipykernel)",
   "language": "python",
   "name": "python3"
  },
  "language_info": {
   "codemirror_mode": {
    "name": "ipython",
    "version": 3
   },
   "file_extension": ".py",
   "mimetype": "text/x-python",
   "name": "python",
   "nbconvert_exporter": "python",
   "pygments_lexer": "ipython3",
   "version": "3.9.7"
  }
 },
 "nbformat": 4,
 "nbformat_minor": 4
}
