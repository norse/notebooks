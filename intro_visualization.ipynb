{
 "cells": [
  {
   "cell_type": "markdown",
   "metadata": {},
   "source": [
    "# Simulating and visualizing spikes\n",
    "\n",
    "This notebook is a quick introduction on how to **simulate** and **analyse** neuron activity. Specifically you will learn how to simulate single neurons and plot their voltage traces, current traces, and spikes. \n",
    "\n",
    ":::{note}\n",
    "You can execute the notebooks on this website by hitting <i class=\"fas fa-rocket\"></i> above and pressing <i class=\"fas fa-play\"></i> Live Code.\n",
    ":::\n",
    "\n",
    "First of all we need to install some prerequisites:"
   ]
  },
  {
   "cell_type": "code",
   "execution_count": null,
   "metadata": {},
   "outputs": [],
   "source": [
    "!pip install -q matplotlib numpy scipy tqdm"
   ]
  },
  {
   "cell_type": "code",
   "execution_count": null,
   "metadata": {
    "colab": {
     "base_uri": "https://localhost:8080/",
     "height": 34
    },
    "colab_type": "code",
    "id": "DPb7tCeX2Jkb",
    "outputId": "6b3dfc84-398a-435c-beb1-f6307a5e1124"
   },
   "outputs": [],
   "source": [
    "!pip install -q norse"
   ]
  },
  {
   "cell_type": "code",
   "execution_count": null,
   "metadata": {},
   "outputs": [],
   "source": [
    "import torch          # PyTorch\n",
    "import numpy as np    # Numpy\n",
    "\n",
    "# Import a simple LIF feedforward cell (no backpropagation or learning for now)\n",
    "from norse.torch.module.lif import LIFCell"
   ]
  },
  {
   "cell_type": "markdown",
   "metadata": {},
   "source": [
    "## Creating leaky integrate-and-fire (LIF) neurons\n",
    "\n",
    "To start simulating we need to create a population of LIF neurons of an arbitrary size. Each neuron in the population is set to a default state. This default state tells us what the initial neuron parameters are (for now, we are just using the defaults). You can find more informations [here](https://norse.github.io/norse/auto_api/norse.torch.functional.lif.html#norse.torch.functional.lif.LIFParameters).\n",
    "\n",
    "The neurons will receive currents as inputs, and produce spikes as outputs."
   ]
  },
  {
   "cell_type": "code",
   "execution_count": null,
   "metadata": {},
   "outputs": [],
   "source": [
    "# Creates a LIF population of arbitraty size\n",
    "# (it will just forward any number of inputs it gets)\n",
    "lif_cell = LIFCell()\n",
    "print(lif_cell)"
   ]
  },
  {
   "cell_type": "markdown",
   "metadata": {},
   "source": [
    "## Creating data for the neurons\n",
    "\n",
    "To illustrate how a LIF neuron works, we wil simulate 100 timesteps. Each of the 10 inputs (indexed from 0 to 9) will sent to the same neuron at every timestep, setting the size of our previously arbitrary sized population to 10. In the setup below, the input voltages follow the formula $i_n * 0.2$, where $i_n$ is the neuron index. Meaning, neuron 0 will receive an input of 0 for each timestep, so we do not expect that to spike. Neuron 1 will receive 0.2, so that *could* be enough for it to spike. Neuron 9 will receive an input of 1.80 every timestep, so we expect that to spike quite a few times."
   ]
  },
  {
   "cell_type": "code",
   "execution_count": null,
   "metadata": {},
   "outputs": [],
   "source": [
    "# We are simulating 100 timesteps\n",
    "timesteps = 100\n",
    "# Create one current for each neuron (first neuron = 0, second neuron = 0.2, etc.)\n",
    "neuron_currents = torch.tensor([0, 0.2, 0.4, 0.6, 0.8, 1.0, 1.2, 1.4, 1.6, 1.8])\n",
    "# Duplicate the neuron currents 100 times (timesteps)\n",
    "population_currents = neuron_currents.repeat(100, 1)\n",
    "# We now have 100 timesteps of unique currents for each of the 10 neurons\n",
    "population_currents.shape"
   ]
  },
  {
   "cell_type": "markdown",
   "metadata": {},
   "source": [
    "## Running the simulation\n",
    "\n",
    "To run the simulation, we prepare a list of spikes and a state-variable, where the neuron states will be updated in. During the simulation, the states will update independently, resulting in different behaviours."
   ]
  },
  {
   "cell_type": "code",
   "execution_count": null,
   "metadata": {},
   "outputs": [],
   "source": [
    "spikes = []  # Prepare list for spike data\n",
    "state = None # Set initial state to None\n",
    "\n",
    "# Loop over all the inputs\n",
    "for data in population_currents:\n",
    "    # Inject the current and the current state into the neuron\n",
    "    # Returns the spikes that occurred during that timestep + the new neuron state\n",
    "    out, state = lif_cell(data, state)\n",
    "    # Add the spikes to our list of spike outputs\n",
    "    spikes.append(out.detach().numpy())\n",
    "\n",
    "# Convert the spike list to a Numpy array\n",
    "spikes = np.array(spikes)"
   ]
  },
  {
   "cell_type": "markdown",
   "metadata": {},
   "source": [
    "We now have the spike data as a list of outputs for each timestep. Let's see how it looks at timestep 100:"
   ]
  },
  {
   "cell_type": "code",
   "execution_count": null,
   "metadata": {},
   "outputs": [],
   "source": [
    "spikes[99]"
   ]
  },
  {
   "cell_type": "markdown",
   "metadata": {},
   "source": [
    "The data tells us that at timestep 100, neuron 5 and 7 emitted a spike."
   ]
  },
  {
   "cell_type": "markdown",
   "metadata": {},
   "source": [
    "## Plotting the spikes\n",
    "\n",
    "There are likely many more spikes, but it's too much work to go through the array one timestep at the time. A spike plot is much better suited to give us an overview.\n",
    "\n",
    "First, we import matplotlib."
   ]
  },
  {
   "cell_type": "code",
   "execution_count": null,
   "metadata": {},
   "outputs": [],
   "source": [
    "import matplotlib.pyplot as plt\n",
    "%matplotlib inline"
   ]
  },
  {
   "cell_type": "markdown",
   "metadata": {},
   "source": [
    "Basically, we want to show the timesteps on the x axis and the neuron index on the y axis. Spikes will then be shown as a tuple of (timestep, neuron_index). If there are no spike, we don't have to show anything. \n",
    "\n",
    "Matplotlib's [`.eventplot()`](https://matplotlib.org/api/_as_gen/matplotlib.pyplot.eventplot.html?highlight=eventplot#matplotlib.pyplot.eventplot) is perfect for this. We just have to condense our spikes into a list of neurons, containing the timesteps that it fires. So, for neuron 0 that list will be empty, and for neuron 9 we will have a lot of spikes. The below code arranges that data, and we can see that neuron 5 still fires at timestep 99:"
   ]
  },
  {
   "cell_type": "code",
   "execution_count": null,
   "metadata": {},
   "outputs": [],
   "source": [
    "spike_data = [[x for x, spike in enumerate(inner_spikes) if spike > 0] for inner_spikes in spikes.T]\n",
    "spike_data[5][-1] # Output the last spike from neuron number 9"
   ]
  },
  {
   "cell_type": "markdown",
   "metadata": {},
   "source": [
    "We are finally ready to plot each neuron starting from 0."
   ]
  },
  {
   "cell_type": "code",
   "execution_count": null,
   "metadata": {},
   "outputs": [],
   "source": [
    "plt.figure(figsize=(10, 10))  # Set figure size \n",
    "plt.xlabel(\"Timestep\")        # Label x axis\n",
    "plt.ylabel(\"Neuron index\")    # Label y axis\n",
    "plt.yticks(list(range(10)))   # Force display all neuron indices\n",
    "for i in range(10):           # Loop i from 0 to 9 (inclusive)\n",
    "    plt.eventplot(spike_data) # Plot the timesteps where the neuron spiked"
   ]
  },
  {
   "cell_type": "markdown",
   "metadata": {},
   "source": [
    "## Conclusion\n",
    "\n",
    "And indeed, as expected neuron 0 did not fire. Nor did neuron 1. Neuron 8 and 9 however, received just the right amount of current for them to exhibit an identical firing pattern.\n",
    "\n",
    "The power of the event-based paradigm is that this sparse behaviour can be exploited. If we look at the data over time, we can interpret this as if neuron 0 \"talks less\" than neuron 9. Meaning, it conveys less information.\n",
    "\n",
    "In turn, this can be exploited in neural networks and learning (plasticity). That, however, is outside the scope of this tutorial."
   ]
  },
  {
   "cell_type": "markdown",
   "metadata": {},
   "source": [
    "## Additional resources\n",
    "\n",
    "If you are interested in learning more, have a look [at our other notebooks](https://github.com/norse/notebooks) and [our documentation](https://norse.github.io/norse/)."
   ]
  }
 ],
 "metadata": {
  "kernelspec": {
   "display_name": "Python 3 (ipykernel)",
   "language": "python",
   "name": "python3"
  },
  "language_info": {
   "codemirror_mode": {
    "name": "ipython",
    "version": 3
   },
   "file_extension": ".py",
   "mimetype": "text/x-python",
   "name": "python",
   "nbconvert_exporter": "python",
   "pygments_lexer": "ipython3",
   "version": "3.9.5"
  }
 },
 "nbformat": 4,
 "nbformat_minor": 4
}
