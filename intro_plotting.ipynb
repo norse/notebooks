{
 "cells": [
  {
   "cell_type": "markdown",
   "metadata": {},
   "source": [
    "# Simulating and plotting neurons\n",
    "\n",
    "This notebook is a quick introduction on how to **simulate** and **analyse** neuron activity - that is neuron activity over time. Specifically you will learn how to simulate single neurons and plot their voltage traces, current traces, and spikes. \n",
    "\n",
    ":::{note}\n",
    "You can execute the notebooks on this website by hitting <i class=\"fas fa-rocket\"></i> above and pressing <i class=\"fas fa-play\"></i> Live Code.\n",
    ":::\n",
    "\n",
    "First of all we need to install and import some prerequisites:"
   ]
  },
  {
   "cell_type": "code",
   "execution_count": 1,
   "metadata": {},
   "outputs": [],
   "source": [
    "!pip install -q matplotlib numpy scipy tqdm norse"
   ]
  },
  {
   "cell_type": "code",
   "execution_count": 2,
   "metadata": {},
   "outputs": [],
   "source": [
    "import torch          # PyTorch\n",
    "\n",
    "# Import a the leaky integrate-and-fire feedforward model\n",
    "from norse.torch.module.lif import LIF, LIFParameters"
   ]
  },
  {
   "cell_type": "markdown",
   "metadata": {},
   "source": [
    "## Creating leaky integrate-and-fire (LIF) neurons\n",
    "\n",
    "To start simulating we need to create a population of LIF neurons of an arbitrary size. Each neuron in the population is set to a default state. We will not be covering this particular neuron model in this tutorial, but can find more information [here](https://norse.github.io/norse/auto_api/norse.torch.module.lif.html) and in our other tutorials.\n",
    "\n",
    "Really, the only thing you need to remember is that that the neurons will **receive currents as inputs**, and **produce spikes** (0 and 1) as outputs."
   ]
  },
  {
   "cell_type": "code",
   "execution_count": 3,
   "metadata": {},
   "outputs": [
    {
     "data": {
      "text/plain": [
       "LIF(p=LIFParameters(tau_syn_inv=tensor(200.), tau_mem_inv=tensor(100.), v_leak=tensor(0.), v_th=tensor(1.), v_reset=tensor(0.), method='super', alpha=tensor(100.)), dt=0.001)"
      ]
     },
     "execution_count": 3,
     "metadata": {},
     "output_type": "execute_result"
    }
   ],
   "source": [
    "# Creates a LIF population of arbitrary size\n",
    "# Note that we record all the states for future use (not recommended unless necessary)\n",
    "lif = LIF(record_states=True)\n",
    "lif"
   ]
  },
  {
   "cell_type": "markdown",
   "metadata": {},
   "source": [
    "# 1. Simulating a single neuron\n",
    "\n",
    "To actually use the neuron, we need to **simulate it in time**.\n",
    "Why in time? Well, neurons works by **integrating current over time**.\n",
    "In Norse, time is discretized into **steps**, where each step *advances* the neuron simulation a bit into the future.\n",
    "If this confuses you, take a look at the earlier [Tutorial on spiking neurons in PyTorch](https://norse.github.io/notebooks/intro_spikes.html).\n",
    "\n",
    "We can easily simulate a single neuron in, say, 1000 timesteps, that is 1 second by creating a tensor with 1000 zeros. Note that the time is the outer (first) dimension and the number of neurons is the second (last). In order for something interesting to happen we also inject input spikes at 100 ms and 120 ms."
   ]
  },
  {
   "cell_type": "code",
   "execution_count": 4,
   "metadata": {},
   "outputs": [],
   "source": [
    "data = torch.zeros(1000, 1)\n",
    "data[100] = 1.0 # inject input spike at 100 ms\n",
    "data[120] = 1.0 # and at 120 ms\n",
    "output, states = lif(data)"
   ]
  },
  {
   "cell_type": "markdown",
   "metadata": {},
   "source": [
    "The `output` now stores the output spikes and the `states` contain the internal variables of the neuron dynamics, such as the voltage trace.\n",
    "\n",
    ":::{note}\n",
    "What does `states` consist of? What happens if you print it out?\n",
    "\n",
    "And what happens if you go back to the previous cell and sets `record_states=False`?\n",
    ":::"
   ]
  },
  {
   "cell_type": "markdown",
   "metadata": {},
   "source": [
    "Now, how can we tell what happens? We have chosen to record the output state, so immediately plot the voltage state with [Matplotlib](https://matplotlib.org/):"
   ]
  },
  {
   "cell_type": "code",
   "execution_count": 5,
   "metadata": {},
   "outputs": [
    {
     "data": {
      "text/plain": [
       "Text(0, 0.5, 'Voltage')"
      ]
     },
     "execution_count": 5,
     "metadata": {},
     "output_type": "execute_result"
    },
    {
     "data": {
      "image/png": "[encoded data removed]",
      "text/plain": [
       "<Figure size 432x288 with 1 Axes>"
      ]
     },
     "metadata": {
      "needs_background": "light"
     },
     "output_type": "display_data"
    }
   ],
   "source": [
    "import matplotlib.pyplot as plt\n",
    "\n",
    "fig, ax = plt.subplots()\n",
    "ax.plot(states.v.detach())\n",
    "ax.hlines(y=1.0, xmin=0.0, xmax=1000, linestyle='--', color='k')\n",
    "ax.set_xlabel('Time [ms]')\n",
    "ax.set_ylabel('Voltage')"
   ]
  },
  {
   "cell_type": "markdown",
   "metadata": {},
   "source": [
    "As you can see the neuron receives an input around timestep 100, which causes the neuron voltage membrane to react.\n",
    "However, the voltage trace does not reach the default threshold value of ```1.0```. Indeed we can compute the maximal value and timestep at which it is attained:"
   ]
  },
  {
   "cell_type": "code",
   "execution_count": 6,
   "metadata": {},
   "outputs": [
    {
     "data": {
      "text/plain": [
       "'maximal voltage: 0.33088549971580505 at 126 ms'"
      ]
     },
     "execution_count": 6,
     "metadata": {},
     "output_type": "execute_result"
    }
   ],
   "source": [
    "voltages = states.v.detach()\n",
    "max_voltage = torch.max(voltages)\n",
    "f\"maximal voltage: {max_voltage} at {torch.argmax(voltages)} ms\""
   ]
  },
  {
   "cell_type": "markdown",
   "metadata": {},
   "source": [
    "Note how that value is much below 1.0.\n",
    "Therefore we can simply rescale the input to ellicit at least one output spike (we also now only show the membrane evolution between 0 and 200 ms)."
   ]
  },
  {
   "cell_type": "code",
   "execution_count": 7,
   "metadata": {},
   "outputs": [
    {
     "data": {
      "text/plain": [
       "Text(0, 0.5, 'Voltage')"
      ]
     },
     "execution_count": 7,
     "metadata": {},
     "output_type": "execute_result"
    },
    {
     "data": {
      "image/png": "[encoded data removed]",
      "text/plain": [
       "<Figure size 432x288 with 1 Axes>"
      ]
     },
     "metadata": {
      "needs_background": "light"
     },
     "output_type": "display_data"
    }
   ],
   "source": [
    "scaled_data = 1.001 * (data / max_voltage) # rescale data according to max voltage + some headroom just computed\n",
    "output, states = lif(scaled_data[:200]) \n",
    "\n",
    "fig, ax = plt.subplots()\n",
    "ax.plot(states.v.detach())\n",
    "ax.hlines(y=1.0, xmin=0.0, xmax=200, linestyle='--', color='k')\n",
    "ax.set_xlabel('Time [ms]')\n",
    "ax.set_ylabel('Voltage')"
   ]
  },
  {
   "cell_type": "markdown",
   "metadata": {},
   "source": [
    "What happens here is that the neuron receives an input around timestep 100 - and again at 120.\n",
    "The neuron racts more strongly than before (the voltage values are higher).\n",
    "Around timestep 123, after the second current injection, the neuron gets sufficient momentum to elicit a spike.\n",
    "After the spike, the neuron resets, but there is some residual current that still produces an effect in the voltage membrane.\n",
    "Exactly why this happens is explained much better in the book [Neural Dynamics by W. Gerstner et al](https://neuronaldynamics.epfl.ch/online/Ch5.S1.html).\n",
    "\n",
    "As a small exercise, can you figure out how to visualize the current term (`\"i\"`)?"
   ]
  },
  {
   "cell_type": "markdown",
   "metadata": {},
   "source": [
    "# 2. Simulating multiple neurons\n",
    "\n",
    "A nice feature of the fact that we are using pytorch is that we can easily simulate many neurons at the same time. Here we consider 10000 neurons over 1000 timesteps (that is one second). We do so by generating random spike input as follows"
   ]
  },
  {
   "cell_type": "code",
   "execution_count": 8,
   "metadata": {},
   "outputs": [],
   "source": [
    "timesteps = 1000 # simulate for 1 second (1 ms timestep)\n",
    "num_neurons = 1000\n",
    "\n",
    "# expect ~ 10 input spikes per neuron\n",
    "input_spikes = torch.rand((timesteps, num_neurons)) < 0.01 "
   ]
  },
  {
   "cell_type": "markdown",
   "metadata": {},
   "source": [
    "We can verify our expectation that there are around $10$ input spikes per neuron by computing the *sum* of the spikes over time"
   ]
  },
  {
   "cell_type": "code",
   "execution_count": 9,
   "metadata": {},
   "outputs": [
    {
     "data": {
      "text/plain": [
       "tensor(10.0030)"
      ]
     },
     "execution_count": 9,
     "metadata": {},
     "output_type": "execute_result"
    }
   ],
   "source": [
    "input_spikes.sum(dim=0).float().mean()"
   ]
  },
  {
   "cell_type": "markdown",
   "metadata": {},
   "source": [
    "... And by plotting the activity histogram"
   ]
  },
  {
   "cell_type": "code",
   "execution_count": 10,
   "metadata": {},
   "outputs": [
    {
     "data": {
      "text/plain": [
       "Text(0, 0.5, 'Occurrences')"
      ]
     },
     "execution_count": 10,
     "metadata": {},
     "output_type": "execute_result"
    },
    {
     "data": {
      "image/png": "[encoded data removed]",
      "text/plain": [
       "<Figure size 432x288 with 1 Axes>"
      ]
     },
     "metadata": {
      "needs_background": "light"
     },
     "output_type": "display_data"
    }
   ],
   "source": [
    "fig, ax = plt.subplots()\n",
    "ax.hist(input_spikes.sum(0).numpy())\n",
    "ax.set_xlim(0,30)\n",
    "ax.set_xlabel(\"Number of spikes\")\n",
    "ax.set_ylabel(\"Occurrences\")"
   ]
  },
  {
   "cell_type": "markdown",
   "metadata": {},
   "source": [
    "The histogram tells us that for our random data over 1000 timesteps, *most* neuron will receive 10 input spikes, less around 5 or 15 times, almost none will receive 0 or 20, and so on."
   ]
  },
  {
   "cell_type": "markdown",
   "metadata": {},
   "source": [
    "To run an actual simulation, we simply inject these input_spikes into our `LIF` neuron. This will provide an output of 1000 timesteps with 1000 neurons per timestep (so, a `1000x1000` matrix) and a state-variable, where the neuron states will be updated in. During the simulation, the states will update independently, resulting in different behaviours for every neuron."
   ]
  },
  {
   "cell_type": "code",
   "execution_count": 11,
   "metadata": {},
   "outputs": [],
   "source": [
    "lif = LIF(p=LIFParameters(v_th=0.3), record_states=True)\n",
    "spikes, states = lif(input_spikes)"
   ]
  },
  {
   "cell_type": "code",
   "execution_count": 12,
   "metadata": {},
   "outputs": [
    {
     "data": {
      "text/plain": [
       "torch.Size([1000, 1000])"
      ]
     },
     "execution_count": 12,
     "metadata": {},
     "output_type": "execute_result"
    }
   ],
   "source": [
    "spikes.shape"
   ]
  },
  {
   "cell_type": "markdown",
   "metadata": {},
   "source": [
    "We can visualise the spikes that the neurons produced as follows:"
   ]
  },
  {
   "cell_type": "code",
   "execution_count": 14,
   "metadata": {},
   "outputs": [
    {
     "data": {
      "text/plain": [
       "Text(0, 0.5, 'Neuron index')"
      ]
     },
     "execution_count": 14,
     "metadata": {},
     "output_type": "execute_result"
    },
    {
     "data": {
      "image/png": "[encoded data removed]",
      "text/plain": [
       "<Figure size 432x288 with 1 Axes>"
      ]
     },
     "metadata": {
      "needs_background": "light"
     },
     "output_type": "display_data"
    }
   ],
   "source": [
    "fig, ax = plt.subplots()\n",
    "ax.scatter(*spikes.to_sparse().indices(), s=0.1)\n",
    "ax.set_xlabel('Time [ms]')\n",
    "ax.set_ylabel('Neuron index')"
   ]
  },
  {
   "cell_type": "markdown",
   "metadata": {},
   "source": [
    "We can compute the number of spikes per neuron again as follows"
   ]
  },
  {
   "cell_type": "code",
   "execution_count": 15,
   "metadata": {},
   "outputs": [
    {
     "data": {
      "text/plain": [
       "tensor(2.5470, grad_fn=<MeanBackward0>)"
      ]
     },
     "execution_count": 15,
     "metadata": {},
     "output_type": "execute_result"
    }
   ],
   "source": [
    "torch.mean(torch.sum(spikes, dim=0))"
   ]
  },
  {
   "cell_type": "markdown",
   "metadata": {},
   "source": [
    "We gave different inputs to different neurons.\n",
    "For some neurons,  enough to cause any spikes!\n",
    "For the other neurons, however, there are gradually more spikes as the input current increases.\n",
    "\n",
    "We can inspect this spike pattern by summing up all the events in the time dimension and look at the activity histogram for the population:"
   ]
  },
  {
   "cell_type": "code",
   "execution_count": 16,
   "metadata": {},
   "outputs": [
    {
     "data": {
      "text/plain": [
       "Text(0, 0.5, 'Occurrence')"
      ]
     },
     "execution_count": 16,
     "metadata": {},
     "output_type": "execute_result"
    },
    {
     "data": {
      "image/png": "[encoded data removed]",
      "text/plain": [
       "<Figure size 432x288 with 1 Axes>"
      ]
     },
     "metadata": {
      "needs_background": "light"
     },
     "output_type": "display_data"
    }
   ],
   "source": [
    "fig, ax = plt.subplots()\n",
    "ax.hist(spikes.sum(0).detach().numpy())\n",
    "ax.set_xlabel('Spike Count')\n",
    "ax.set_ylabel('Occurrence')"
   ]
  },
  {
   "cell_type": "markdown",
   "metadata": {},
   "source": [
    "## Conclusion\n",
    "\n",
    "Hopefully, this tutorial helped you gain some tools to plot spikes and neuron state variables and gave you some pointers on how to gain insights into spiking data in Norse.\n",
    "There are more [primivites to explore for plotting](https://norse.github.io/norse/norse.torch.utils.html) that we did not get to, but they are relatively simple; the most important thing is to understand the shape and nature of your data, such that you can manipulate it in any way you need."
   ]
  },
  {
   "cell_type": "markdown",
   "metadata": {},
   "source": [
    "## Additional resources\n",
    "\n",
    "Please have a look [at our other notebooks](https://github.com/norse/notebooks) and [our documentation](https://norse.github.io/norse/) - particularly for the [plotting utilities](https://norse.github.io/norse/norse.torch.utils.html).\n",
    "\n",
    "For an excellent introduction to neuron dynamics and much more, see the [Neuromatch Academy Python tutorial](https://compneuro.neuromatch.io/tutorials/W0D1_PythonWorkshop1/student/W0D1_Tutorial1.html)."
   ]
  }
 ],
 "metadata": {
  "kernelspec": {
   "display_name": "Python 3 (ipykernel)",
   "language": "python",
   "name": "python3"
  },
  "language_info": {
   "codemirror_mode": {
    "name": "ipython",
    "version": 3
   },
   "file_extension": ".py",
   "mimetype": "text/x-python",
   "name": "python",
   "nbconvert_exporter": "python",
   "pygments_lexer": "ipython3",
   "version": "3.9.7"
  }
 },
 "nbformat": 4,
 "nbformat_minor": 4
}
