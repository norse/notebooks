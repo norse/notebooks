{
 "cells": [
  {
   "cell_type": "markdown",
   "id": "d589fdaf",
   "metadata": {},
   "source": [
    "# Spiking neurons in PyTorch\n",
    "\n",
    "Norse is a library where you can *simulate* neural networks that are driven by atomic and sparse events **over time**, rather than large and dense tensors *without* time. \n",
    "\n",
    "This notebook shows you how how to install and use PyTorch and Norse. We will skip most of the details, and *we will not cover training*. Many more resources exist in our [notebook repository](https://github.com/norse/notebooks) if you're feeling adventurous. Also, our documentation tells you much more about what Norse is and why we built it at: https://norse.github.io/norse/\n",
    "\n",
    ":::{note}\n",
    "You can execute the notebooks on this website by hitting <i class=\"fas fa-rocket\"></i> above and pressing <i class=\"fas fa-play\"></i> Live Code.\n",
    ":::\n",
    "\n",
    "## Table of contents\n",
    "\n",
    "1. Using PyTorch\n",
    "  1. Installation\n",
    "  2. Creating a data and a network\n",
    "  3. Applying data to the network\n",
    "2. Using Norse\n",
    "  1. Creating temporal data\n",
    "  2. Creating a spiking network\n",
    "  3. Applying data to the network\n",
    "3. Next steps"
   ]
  },
  {
   "cell_type": "markdown",
   "id": "712385cc",
   "metadata": {},
   "source": [
    "---\n",
    "\n",
    "# 1. Using PyTorch\n",
    "\n",
    "## 1.1 Installing prerequisites\n",
    "\n",
    "Before we can get started, we need to install the necessary software. But! That's simple. Just run the cell below."
   ]
  },
  {
   "cell_type": "code",
   "execution_count": 1,
   "id": "20e18d59",
   "metadata": {},
   "outputs": [],
   "source": [
    "!pip install --quiet norse"
   ]
  },
  {
   "cell_type": "markdown",
   "id": "52aa8b51",
   "metadata": {},
   "source": [
    "Now that it's installed, we can import PyTorch and Norse directly into Python."
   ]
  },
  {
   "cell_type": "code",
   "execution_count": 2,
   "id": "17b246a8",
   "metadata": {},
   "outputs": [],
   "source": [
    "import torch\n",
    "import norse.torch as norse\n",
    "\n",
    "# We set the random seed for reproducibility\n",
    "_ = torch.manual_seed(0)"
   ]
  },
  {
   "cell_type": "markdown",
   "id": "fd5a6054",
   "metadata": {},
   "source": [
    "## 1.2.1 Creating data with PyTorch\n",
    "\n",
    "First, we need some **data**. Let's start by creating a vector of 5 random numbers, that can be visualized like this.\n",
    "\n",
    "![](images/vector.svg)"
   ]
  },
  {
   "cell_type": "code",
   "execution_count": 3,
   "id": "aba013fc",
   "metadata": {},
   "outputs": [
    {
     "data": {
      "text/plain": [
       "tensor([ 1.5410, -0.2934, -2.1788,  0.5684, -1.0845])"
      ]
     },
     "execution_count": 3,
     "metadata": {},
     "output_type": "execute_result"
    }
   ],
   "source": [
    "data = torch.randn(5)\n",
    "data"
   ]
  },
  {
   "cell_type": "markdown",
   "id": "ab083dc2",
   "metadata": {},
   "source": [
    "## 1.2.2 Creating a network\n",
    "\n",
    "We will now create a simple neural **network** in PyTorch, consisting of a `Linear` layer and an *activation function*. The `Linear` layer combines the five inputs into a single output, like so:\n",
    "\n",
    "![](images/one_layer.svg)\n",
    "\n",
    "The activation *activation function* determines *how* the neurons react to the data. For now, we will just use a [simple rectified linear unit (ReLU)](https://pytorch.org/docs/stable/generated/torch.nn.ReLU.html), which clips data data to the interval $[0, \\inf)$. If the data is below 0, the *activation function* returns 0. If the data is above zero, ReLU returns that same data without change (identity).\n",
    "\n",
    "![](images/relu.svg)\n",
    "\n",
    "Now that we installed the ReLU *activation function*, our network looks like this:\n",
    "\n",
    "![](images/two_layers.svg)\n",
    "\n",
    "Finally, we need to put the two *layers* together by wrapping them in a `torch.nn.Sequential` module."
   ]
  },
  {
   "cell_type": "code",
   "execution_count": 4,
   "id": "50829aab",
   "metadata": {},
   "outputs": [],
   "source": [
    "network = torch.nn.Sequential(\n",
    "    torch.nn.Linear(5, 1),\n",
    "    torch.nn.ReLU()\n",
    ")"
   ]
  },
  {
   "cell_type": "markdown",
   "id": "2c54bc03",
   "metadata": {},
   "source": [
    "Together, our data and network now looks like this:\n",
    "\n",
    "![](images/network.svg)"
   ]
  },
  {
   "cell_type": "markdown",
   "id": "37f3bee4",
   "metadata": {},
   "source": [
    "## 1.3 Using the network\n",
    "\n",
    "It's now straight forward to give the **network** our **data**. That will give us a single number as output, but with any negative numbers zero'ed out because the ReLU layer removes them."
   ]
  },
  {
   "cell_type": "code",
   "execution_count": 5,
   "id": "b6482318",
   "metadata": {},
   "outputs": [
    {
     "data": {
      "text/plain": [
       "tensor([0.], grad_fn=<ReluBackward0>)"
      ]
     },
     "execution_count": 5,
     "metadata": {},
     "output_type": "execute_result"
    }
   ],
   "source": [
    "network(data)"
   ]
  },
  {
   "cell_type": "markdown",
   "id": "60ce89f2",
   "metadata": {},
   "source": [
    "Try to run the cell multiple times - you should get the same result. Why? Because the input never changes. So, what happens if the input changes?\n",
    "\n",
    "Below, we'll use the **network** again, but with a different input vector. Try running it several times. Do you understand what is happening? Why is it sometimes zero?"
   ]
  },
  {
   "cell_type": "code",
   "execution_count": 6,
   "id": "d54a29ce",
   "metadata": {},
   "outputs": [
    {
     "data": {
      "text/plain": [
       "tensor([0.0756], grad_fn=<ReluBackward0>)"
      ]
     },
     "execution_count": 6,
     "metadata": {},
     "output_type": "execute_result"
    }
   ],
   "source": [
    "data = torch.rand(5)\n",
    "network(data)"
   ]
  },
  {
   "cell_type": "markdown",
   "id": "8dae2ad6",
   "metadata": {},
   "source": [
    "# 2. Using Norse\n",
    "\n",
    "Now that we've seen how to use networks and data in PyTorch, we can extend the same principle to Norse. But before we do that, we need to discuss time.\n",
    "\n",
    "Neurons in biology receive data more than that single vector we used above. They exist in time and have intricate dynamics. What you see below is a small animation of a **constant** input that produces different outputs **over time**. \n",
    "\n",
    "![](https://ncskth.github.io/norse-rl/_images/spikes.gif)\n",
    "\n",
    "## 2.1 Describing \"time\"\n",
    "\n",
    "In order to *simulate* our neuron over time we need be able to express \"time\". \n",
    "There are [many ways to approach this](https://en.wikipedia.org/wiki/Dynamical_system) and in Norse, this is approached by discretizing time into small bins.\n",
    "That is, \"time\" in Norse is not continuous.\n",
    "It consists of small \"steps\" that are very very small (1ms by default).\n",
    "\n",
    "Practically speaking, we can approach this by creating multiple versions of our **data** vector. Each \"version\" would then represent one timestep, like in the above simulation.\n",
    "\n",
    "![](images/time_vector.svg)\n",
    "\n",
    "One way to represent that would be to create a **single matrix**, where each \"slice\" represents a timesteps.\n",
    " \n",
    "![](images/time_matrix.svg)\n",
    "\n",
    "In PyTorch, we can create such a matrix by adding four timesteps as the outer dimension."
   ]
  },
  {
   "cell_type": "code",
   "execution_count": 7,
   "id": "a29a104e",
   "metadata": {},
   "outputs": [
    {
     "data": {
      "text/plain": [
       "tensor([[ 1.8530,  0.4681, -0.1577,  1.4437,  0.2596],\n",
       "        [-0.1740, -0.6787,  0.9383,  0.4889, -0.6731],\n",
       "        [ 0.8728,  1.0554, -0.0048, -0.5181, -0.3067],\n",
       "        [-1.5810,  1.7066, -0.4462,  0.7440,  1.5210]])"
      ]
     },
     "execution_count": 7,
     "metadata": {},
     "output_type": "execute_result"
    }
   ],
   "source": [
    "data = torch.randn(4, 5)\n",
    "data"
   ]
  },
  {
   "cell_type": "markdown",
   "id": "361dd227",
   "metadata": {},
   "source": [
    "## 2.2 Creating a spiking network\n",
    "\n",
    "As you remember, the ReLU function isn't spiking or even biological. That's where Norse comes in. Norse includes spiking neuron models that we can add directly into the previous network description. In this case, we'll use a leaky integrate-and-fire (LIF) model."
   ]
  },
  {
   "cell_type": "code",
   "execution_count": 8,
   "id": "3f542e4e",
   "metadata": {},
   "outputs": [],
   "source": [
    "network = norse.SequentialState(\n",
    "    torch.nn.Linear(5, 1),\n",
    "    norse.LIF()\n",
    ")"
   ]
  },
  {
   "cell_type": "markdown",
   "id": "7840f77a",
   "metadata": {},
   "source": [
    "You probably noticed that we are no longer using the `torch.nn.Sequential` but `norse.SequentialState`. The reason is that every time we feed in one timestep, we also need to *remember* how \"excited\" the neuron is. This is also known as the *state* of the neuron. `torch.nn.Sequential` doesn't know anything about states, so we need to patch it. We will ignore this for now, but you are welcome to [read more about state handling in our documentation](https://norse.github.io/norse/pages/working.html).\n",
    "\n",
    "With time, our network can be visualized like this:\n",
    "\n",
    "![](images/network_time.svg)"
   ]
  },
  {
   "cell_type": "markdown",
   "id": "b37cea13",
   "metadata": {},
   "source": [
    "Note the two changes: the are using *several* input data vectors and the ReLU *activation function* is replaced with a LIF *activation function*."
   ]
  },
  {
   "cell_type": "markdown",
   "id": "ecf3171e",
   "metadata": {},
   "source": [
    "## 2.3 Applying data to the network\n",
    "\n",
    "Applying the data is as simple as we did above. We would now expect that for each timestep, we would get a single output in return (just as before). Because we have four timesteps, we would expect 4 numbers:"
   ]
  },
  {
   "cell_type": "code",
   "execution_count": 14,
   "id": "14acdaae",
   "metadata": {},
   "outputs": [
    {
     "data": {
      "text/plain": [
       "tensor([[0.],\n",
       "        [0.],\n",
       "        [0.],\n",
       "        [0.]], grad_fn=<StackBackward0>)"
      ]
     },
     "execution_count": 14,
     "metadata": {},
     "output_type": "execute_result"
    }
   ],
   "source": [
    "output, _ = network(data) # We ignore the state for now, see above\n",
    "output"
   ]
  },
  {
   "cell_type": "markdown",
   "id": "ec84a551",
   "metadata": {},
   "source": [
    "As promised, here are exactly the four values we would expect. \n",
    "\n",
    "Before we conclude, we encourage you to play around with the data above. Here are some leading questions\n",
    "\n",
    "* How do you simulate the network for 10 timesteps?\n",
    "* How do you increase the number of neurons from 1 to 2?\n",
    "* What happens if you add a linear layer in the end that goes from 1 to 3 neurons?\n"
   ]
  },
  {
   "cell_type": "markdown",
   "id": "e4546df2",
   "metadata": {},
   "source": [
    "# 3 Next steps\n",
    "\n",
    "You may wonder why the data above are all zeros. Take a look at this animation.\n",
    "\n",
    "![](https://ncskth.github.io/norse-rl/_images/spikes.gif)\n",
    "\n",
    "\n",
    "If the input is too low (like in the left panel), nothing will happen: the neuron stays silent. If we want the network to provide a certain output *we need to train it*. That is the topic for future notebooks and documentation. Specifically, we would recommend these notebooks\n",
    "\n",
    "* How to train a single spiking neuron with Norse: [![Open In Colab](https://colab.research.google.com/assets/colab-badge.svg)](https://colab.research.google.com/github/norse/notebooks/blob/master/single-neuron-experiments.ipynb)\n",
    "* How to work with state and time in Norse [![Open In Colab](https://colab.research.google.com/assets/colab-badge.svg)](https://colab.research.google.com/github/norse/notebooks/blob/master/introduction-to-norse.ipynb)\n",
    "* How to work with event-based datasets with Tonic: [![Open In Colab](https://colab.research.google.com/assets/colab-badge.svg)](https://colab.research.google.com/github/norse/notebooks/blob/master/poker-dvs_classifier.ipynb)\n",
    "\n",
    "Much more informtion can be found in our [notebooks](https://github.com/norse/notebooks) and the [Norse documentation](https://norse.github.io/norse/index.html). Good luck!"
   ]
  }
 ],
 "metadata": {
  "kernelspec": {
   "display_name": "Python 3 (ipykernel)",
   "language": "python",
   "name": "python3"
  },
  "language_info": {
   "codemirror_mode": {
    "name": "ipython",
    "version": 3
   },
   "file_extension": ".py",
   "mimetype": "text/x-python",
   "name": "python",
   "nbconvert_exporter": "python",
   "pygments_lexer": "ipython3",
   "version": "3.9.5"
  }
 },
 "nbformat": 4,
 "nbformat_minor": 5
}
