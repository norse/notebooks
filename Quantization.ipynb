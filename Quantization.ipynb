{
 "cells": [
  {
   "cell_type": "markdown",
   "id": "90ab215f",
   "metadata": {},
   "source": [
    "# Weight quantization\n",
    "\n",
    "Some (neuromorphic) hardware platforms are constrained to certain degrees of precision. To approximate these constraints in simulation, PyTorch have implemented methods to [quantize](https://pytorch.org/docs/stable/quantization.html) network parameters. Meaning, we artificially constrict parameters to adhere to certain number types or value ranges. \n",
    "\n",
    "Please see the [PyTorch blog post on quantization](https://pytorch.org/blog/introduction-to-quantization-on-pytorch/) for a proper introduction to quantization. Please note that this tutorial concerns eager mode quantization and *not* FX graph quantization.\n",
    "\n",
    "In summary, three types of quantization exists (taken from the PyTorch documentation): \n",
    "\n",
    "* dynamic quantization (weights quantized with activations read/stored in floating point and quantized for compute.)\n",
    "* static quantization (weights quantized, activations quantized, calibration required post training)\n",
    "* quantization aware training (weights quantized, activations quantized, quantization numerics modeled during training)"
   ]
  },
  {
   "cell_type": "markdown",
   "id": "bd6274b9",
   "metadata": {},
   "source": [
    "## 1. Dynamic quantization\n",
    "\n",
    "Dynamic quantization can simply be done by calling the `quantize_dynamic` method from the `torch.quantization` module. We will specify the set op layers to quantize."
   ]
  },
  {
   "cell_type": "code",
   "execution_count": 27,
   "id": "cb5ec7ad",
   "metadata": {},
   "outputs": [],
   "source": [
    "class SNNModel(torch.nn.Module):\n",
    "    def __init__(self):\n",
    "        super().__init__()\n",
    "        self.lin = torch.nn.Linear(4, 4)\n",
    "        self.lif = norse.LIFCell()\n",
    "        \n",
    "    def forward(self, x, s):\n",
    "        return self.lif(self.lin(x), s)"
   ]
  },
  {
   "cell_type": "code",
   "execution_count": 31,
   "id": "99715929",
   "metadata": {},
   "outputs": [],
   "source": [
    "# create a model instance\n",
    "model_fp32 = SNNModel()\n",
    "\n",
    "# create a quantized model instance\n",
    "model_int8 = torch.quantization.quantize_dynamic(\n",
    "    model_fp32,  # the original model\n",
    "    {norse.LIFCell},  # a set of layers to dynamically quantize\n",
    "    dtype=torch.qint8)  # the target dtype for quantized weights\n",
    "\n",
    "# Apply the model\n",
    "input_fp32 = torch.randn(4, 4, 4, 4)\n",
    "z, s = model_int8(input_fp32, None)"
   ]
  },
  {
   "cell_type": "markdown",
   "id": "3f036a7e",
   "metadata": {},
   "source": [
    "## 2. Static quantization\n",
    "\n",
    "Static quantization *will require calibration* to achieve decent performance. Furthermore, we can indicate quantization blocks in the model."
   ]
  },
  {
   "cell_type": "code",
   "execution_count": 38,
   "id": "ad764597",
   "metadata": {},
   "outputs": [],
   "source": [
    "class SNNModel(torch.nn.Module):\n",
    "    def __init__(self):\n",
    "        super().__init__()\n",
    "        # QuantStub converts tensors from floating point to quantized\n",
    "        self.quant = torch.quantization.QuantStub()\n",
    "        self.lin = torch.nn.Linear(4, 4)\n",
    "        self.lif = norse.LIFCell()\n",
    "        # DeQuantStub converts tensors from quantized to floating point\n",
    "        self.dequant = torch.quantization.DeQuantStub()\n",
    "        \n",
    "    def forward(self, x, s):\n",
    "        # Quantize input and state\n",
    "        x = self.quant(x)\n",
    "        s = norse.LIFFeedForwardState(self.quant(s.v), self.quant(s.i))\n",
    "        z, s = self.lif(self.lin(x), s)\n",
    "        # Dequantize\n",
    "        s = norse.LIFFeedForwardState(self.dequant(s.v), self.dequant(s.i))\n",
    "        return z, s"
   ]
  },
  {
   "cell_type": "code",
   "execution_count": 45,
   "id": "e61d7f10",
   "metadata": {},
   "outputs": [],
   "source": [
    "# Create the input\n",
    "input_fp32 = torch.randn(4, 1, 4, 4)\n",
    "input_state = norse.LIFFeedForwardState(torch.randn(4, 4), torch.randn(4, 4))\n",
    "\n",
    "# Prepare the quantized model to the input\n",
    "model_fp32 = SNNModel()\n",
    "model_fp32_prepared = torch.quantization.prepare(model_fp32)\n",
    "model_fp32_prepared(input_fp32, input_state)\n",
    "\n",
    "# Convert the observed model to a quantized model. This does several things:\n",
    "# quantizes the weights, computes and stores the scale and bias value to be\n",
    "# used with each activation tensor, and replaces key operators with quantized\n",
    "# implementations.\n",
    "model_int8 = torch.quantization.convert(model_fp32_prepared)\n",
    "\n",
    "# run the model, relevant calculations will happen in int8\n",
    "res = model_int8(input_fp32, input_state)"
   ]
  },
  {
   "cell_type": "code",
   "execution_count": 46,
   "id": "903336d2",
   "metadata": {},
   "outputs": [
    {
     "data": {
      "text/plain": [
       "tensor([[0., 0., 1., 0.],\n",
       "        [0., 0., 0., 1.],\n",
       "        [1., 0., 0., 0.],\n",
       "        [0., 0., 0., 0.]])"
      ]
     },
     "execution_count": 46,
     "metadata": {},
     "output_type": "execute_result"
    }
   ],
   "source": [
    "res[0]"
   ]
  },
  {
   "cell_type": "markdown",
   "id": "7826a829",
   "metadata": {},
   "source": [
    "## 3. Quantization aware training\n",
    "\n",
    "... TBD"
   ]
  }
 ],
 "metadata": {
  "kernelspec": {
   "display_name": "Python 3 (ipykernel)",
   "language": "python",
   "name": "python3"
  },
  "language_info": {
   "codemirror_mode": {
    "name": "ipython",
    "version": 3
   },
   "file_extension": ".py",
   "mimetype": "text/x-python",
   "name": "python",
   "nbconvert_exporter": "python",
   "pygments_lexer": "ipython3",
   "version": "3.8.10"
  }
 },
 "nbformat": 4,
 "nbformat_minor": 5
}
